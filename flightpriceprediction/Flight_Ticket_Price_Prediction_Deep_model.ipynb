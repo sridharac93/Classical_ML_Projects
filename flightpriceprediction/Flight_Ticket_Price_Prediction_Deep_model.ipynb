{
 "cells": [
  {
   "cell_type": "markdown",
   "metadata": {
    "colab_type": "text",
    "id": "rPKg3gu-CkGr"
   },
   "source": [
    "# Business Problem\n",
    "The flight ticket price in India is based on demand and supply model with few restrictions on pricing from regulatory bodies. It is often perceived as unpredictable and , recent dynamic pricing scheme added to the confusion. \n",
    "The objective is to create a machine learning model for predicting the flight price, based on historical data, which can be used for reference price for customers as well as airline service providers"
   ]
  },
  {
   "cell_type": "markdown",
   "metadata": {
    "colab_type": "text",
    "id": "EhmEQu4_CkGs"
   },
   "source": [
    "# Goal\n",
    "Creating a machine learning for predicting flight ticket price with high accuracy. "
   ]
  },
  {
   "cell_type": "markdown",
   "metadata": {
    "colab_type": "text",
    "id": "-GGYMxFcCkGt"
   },
   "source": [
    "# Imports\n",
    "** Import pandas, numpy, matplotlib,and seaborn.(we will import sklearn as we need it.)**"
   ]
  },
  {
   "cell_type": "code",
   "execution_count": 0,
   "metadata": {
    "colab": {},
    "colab_type": "code",
    "id": "NyFfz5zcCkGu"
   },
   "outputs": [],
   "source": [
    "import pandas as pd\n",
    "import numpy as np\n",
    "import matplotlib.pyplot as plt\n",
    "import seaborn as sns\n",
    "sns.set_style('whitegrid')"
   ]
  },
  {
   "cell_type": "markdown",
   "metadata": {
    "colab_type": "raw",
    "id": "AxIVq9c_CkGx"
   },
   "source": [
    "# Get the Data\n",
    "We have a data_train excel file which we are going to use to perform all the approriate tasks in creating the machine learning model.\n",
    "It has various feature columns as follows:\n",
    "    1.Airline: The name of the airline.\n",
    "    2.Date_of_Journey: The date of the journey\n",
    "    3.Source: The source from which the service begins.\n",
    "    4.Destination: The destination where the service ends. \n",
    "    5.Route: The route taken by the flight to reach the destination.   \n",
    "    6.Dep_Time: The time when the journey starts from the source.   \n",
    "    7.Arrival_Time: Time of arrival at the destination.  \n",
    "    8.Duration: Total duration of the flight.  \n",
    "    9.Total_Stops: Total stops between the source and destination.   \n",
    "    10.Additional_Info: Additional information about the flight Price:   \n",
    "    11.The price of the ticket \n",
    "\n",
    "*Read the excel file in to a dataframe called flights"
   ]
  },
  {
   "cell_type": "code",
   "execution_count": 0,
   "metadata": {
    "colab": {},
    "colab_type": "code",
    "id": "orfCnjF5CkGy"
   },
   "outputs": [],
   "source": [
    "flights=pd.read_excel('Data_Train.xlsx')"
   ]
  },
  {
   "cell_type": "markdown",
   "metadata": {
    "colab_type": "text",
    "id": "mXWmxiBfCkG1"
   },
   "source": [
    "*Check the Head of the flights and also info() methods"
   ]
  },
  {
   "cell_type": "code",
   "execution_count": 5,
   "metadata": {
    "colab": {
     "base_uri": "https://localhost:8080/",
     "height": 233
    },
    "colab_type": "code",
    "id": "SyZXRiqACkG2",
    "outputId": "140e58b7-f3b6-483b-8c38-baec5cde44d6"
   },
   "outputs": [
    {
     "data": {
      "text/html": [
       "<div>\n",
       "<style scoped>\n",
       "    .dataframe tbody tr th:only-of-type {\n",
       "        vertical-align: middle;\n",
       "    }\n",
       "\n",
       "    .dataframe tbody tr th {\n",
       "        vertical-align: top;\n",
       "    }\n",
       "\n",
       "    .dataframe thead th {\n",
       "        text-align: right;\n",
       "    }\n",
       "</style>\n",
       "<table border=\"1\" class=\"dataframe\">\n",
       "  <thead>\n",
       "    <tr style=\"text-align: right;\">\n",
       "      <th></th>\n",
       "      <th>Airline</th>\n",
       "      <th>Date_of_Journey</th>\n",
       "      <th>Source</th>\n",
       "      <th>Destination</th>\n",
       "      <th>Route</th>\n",
       "      <th>Dep_Time</th>\n",
       "      <th>Arrival_Time</th>\n",
       "      <th>Duration</th>\n",
       "      <th>Total_Stops</th>\n",
       "      <th>Additional_Info</th>\n",
       "      <th>Price</th>\n",
       "    </tr>\n",
       "  </thead>\n",
       "  <tbody>\n",
       "    <tr>\n",
       "      <th>0</th>\n",
       "      <td>IndiGo</td>\n",
       "      <td>24/03/2019</td>\n",
       "      <td>Banglore</td>\n",
       "      <td>New Delhi</td>\n",
       "      <td>BLR → DEL</td>\n",
       "      <td>22:20</td>\n",
       "      <td>01:10 22 Mar</td>\n",
       "      <td>2h 50m</td>\n",
       "      <td>non-stop</td>\n",
       "      <td>No info</td>\n",
       "      <td>3897</td>\n",
       "    </tr>\n",
       "    <tr>\n",
       "      <th>1</th>\n",
       "      <td>Air India</td>\n",
       "      <td>1/05/2019</td>\n",
       "      <td>Kolkata</td>\n",
       "      <td>Banglore</td>\n",
       "      <td>CCU → IXR → BBI → BLR</td>\n",
       "      <td>05:50</td>\n",
       "      <td>13:15</td>\n",
       "      <td>7h 25m</td>\n",
       "      <td>2 stops</td>\n",
       "      <td>No info</td>\n",
       "      <td>7662</td>\n",
       "    </tr>\n",
       "    <tr>\n",
       "      <th>2</th>\n",
       "      <td>Jet Airways</td>\n",
       "      <td>9/06/2019</td>\n",
       "      <td>Delhi</td>\n",
       "      <td>Cochin</td>\n",
       "      <td>DEL → LKO → BOM → COK</td>\n",
       "      <td>09:25</td>\n",
       "      <td>04:25 10 Jun</td>\n",
       "      <td>19h</td>\n",
       "      <td>2 stops</td>\n",
       "      <td>No info</td>\n",
       "      <td>13882</td>\n",
       "    </tr>\n",
       "    <tr>\n",
       "      <th>3</th>\n",
       "      <td>IndiGo</td>\n",
       "      <td>12/05/2019</td>\n",
       "      <td>Kolkata</td>\n",
       "      <td>Banglore</td>\n",
       "      <td>CCU → NAG → BLR</td>\n",
       "      <td>18:05</td>\n",
       "      <td>23:30</td>\n",
       "      <td>5h 25m</td>\n",
       "      <td>1 stop</td>\n",
       "      <td>No info</td>\n",
       "      <td>6218</td>\n",
       "    </tr>\n",
       "    <tr>\n",
       "      <th>4</th>\n",
       "      <td>IndiGo</td>\n",
       "      <td>01/03/2019</td>\n",
       "      <td>Banglore</td>\n",
       "      <td>New Delhi</td>\n",
       "      <td>BLR → NAG → DEL</td>\n",
       "      <td>16:50</td>\n",
       "      <td>21:35</td>\n",
       "      <td>4h 45m</td>\n",
       "      <td>1 stop</td>\n",
       "      <td>No info</td>\n",
       "      <td>13302</td>\n",
       "    </tr>\n",
       "  </tbody>\n",
       "</table>\n",
       "</div>"
      ],
      "text/plain": [
       "       Airline Date_of_Journey    Source  ... Total_Stops Additional_Info  Price\n",
       "0       IndiGo      24/03/2019  Banglore  ...    non-stop         No info   3897\n",
       "1    Air India       1/05/2019   Kolkata  ...     2 stops         No info   7662\n",
       "2  Jet Airways       9/06/2019     Delhi  ...     2 stops         No info  13882\n",
       "3       IndiGo      12/05/2019   Kolkata  ...      1 stop         No info   6218\n",
       "4       IndiGo      01/03/2019  Banglore  ...      1 stop         No info  13302\n",
       "\n",
       "[5 rows x 11 columns]"
      ]
     },
     "execution_count": 5,
     "metadata": {
      "tags": []
     },
     "output_type": "execute_result"
    }
   ],
   "source": [
    "flights.head()"
   ]
  },
  {
   "cell_type": "code",
   "execution_count": 6,
   "metadata": {
    "colab": {
     "base_uri": "https://localhost:8080/",
     "height": 294
    },
    "colab_type": "code",
    "id": "Vl_-WAHKCkG6",
    "outputId": "b7a74573-07b6-41b9-c98e-da4435d19271"
   },
   "outputs": [
    {
     "name": "stdout",
     "output_type": "stream",
     "text": [
      "<class 'pandas.core.frame.DataFrame'>\n",
      "RangeIndex: 10683 entries, 0 to 10682\n",
      "Data columns (total 11 columns):\n",
      "Airline            10683 non-null object\n",
      "Date_of_Journey    10683 non-null object\n",
      "Source             10683 non-null object\n",
      "Destination        10683 non-null object\n",
      "Route              10682 non-null object\n",
      "Dep_Time           10683 non-null object\n",
      "Arrival_Time       10683 non-null object\n",
      "Duration           10683 non-null object\n",
      "Total_Stops        10682 non-null object\n",
      "Additional_Info    10683 non-null object\n",
      "Price              10683 non-null int64\n",
      "dtypes: int64(1), object(10)\n",
      "memory usage: 918.2+ KB\n"
     ]
    }
   ],
   "source": [
    "flights.info()"
   ]
  },
  {
   "cell_type": "markdown",
   "metadata": {
    "colab_type": "text",
    "id": "AIl3JNyACkG9"
   },
   "source": [
    "# Exploratory Data Analysis\n",
    "Let's explore the data!"
   ]
  },
  {
   "cell_type": "markdown",
   "metadata": {
    "colab_type": "text",
    "id": "ZAURsKEHCkG9"
   },
   "source": [
    "**As you can see in the info that all the columns in the dataframe except for the price are in string format so we need to convert our required column in to the appropriate one."
   ]
  },
  {
   "cell_type": "code",
   "execution_count": 7,
   "metadata": {
    "colab": {
     "base_uri": "https://localhost:8080/",
     "height": 294
    },
    "colab_type": "code",
    "id": "3xZNcwsKCkG-",
    "outputId": "a05a7f22-a074-4af4-af53-18cab075a708"
   },
   "outputs": [
    {
     "name": "stdout",
     "output_type": "stream",
     "text": [
      "<class 'pandas.core.frame.DataFrame'>\n",
      "Int64Index: 10682 entries, 0 to 10682\n",
      "Data columns (total 11 columns):\n",
      "Airline            10682 non-null object\n",
      "Date_of_Journey    10682 non-null object\n",
      "Source             10682 non-null object\n",
      "Destination        10682 non-null object\n",
      "Route              10682 non-null object\n",
      "Dep_Time           10682 non-null object\n",
      "Arrival_Time       10682 non-null object\n",
      "Duration           10682 non-null object\n",
      "Total_Stops        10682 non-null object\n",
      "Additional_Info    10682 non-null object\n",
      "Price              10682 non-null int64\n",
      "dtypes: int64(1), object(10)\n",
      "memory usage: 1001.4+ KB\n"
     ]
    }
   ],
   "source": [
    "#clearing the missing data\n",
    "flights.dropna(inplace=True)\n",
    "flights.info()"
   ]
  },
  {
   "cell_type": "code",
   "execution_count": 8,
   "metadata": {
    "colab": {
     "base_uri": "https://localhost:8080/",
     "height": 484
    },
    "colab_type": "code",
    "id": "7a8FoGMBCkHB",
    "outputId": "48f06abb-e6ca-4992-f0ca-7559eee1e02b"
   },
   "outputs": [
    {
     "data": {
      "text/plain": [
       "(array([ 0,  1,  2,  3,  4,  5,  6,  7,  8,  9, 10, 11]),\n",
       " <a list of 12 Text xticklabel objects>)"
      ]
     },
     "execution_count": 8,
     "metadata": {
      "tags": []
     },
     "output_type": "execute_result"
    },
    {
     "data": {
      "image/png": "[encoded data removed]",
      "text/plain": [
       "<Figure size 432x288 with 1 Axes>"
      ]
     },
     "metadata": {
      "tags": []
     },
     "output_type": "display_data"
    }
   ],
   "source": [
    "#Now lets check the count of the airlines in the visual graph\n",
    "plot=plt.figure()\n",
    "sns.countplot('Airline',data=flights)\n",
    "plt.xticks(rotation=90)"
   ]
  },
  {
   "cell_type": "code",
   "execution_count": 9,
   "metadata": {
    "colab": {
     "base_uri": "https://localhost:8080/",
     "height": 331
    },
    "colab_type": "code",
    "id": "ZY85iFxECkHE",
    "outputId": "75e71139-2bd2-4372-bd8f-9e243bf4e432"
   },
   "outputs": [
    {
     "data": {
      "text/plain": [
       "(array([0, 1, 2, 3, 4]), <a list of 5 Text xticklabel objects>)"
      ]
     },
     "execution_count": 9,
     "metadata": {
      "tags": []
     },
     "output_type": "execute_result"
    },
    {
     "data": {
      "image/png": "[encoded data removed]",
      "text/plain": [
       "<Figure size 432x288 with 1 Axes>"
      ]
     },
     "metadata": {
      "tags": []
     },
     "output_type": "display_data"
    }
   ],
   "source": [
    "#Now lets check the count of the Source in the visual graph\n",
    "plot=plt.figure()\n",
    "sns.countplot('Source',data=flights)\n",
    "plt.xticks(rotation=90)"
   ]
  },
  {
   "cell_type": "code",
   "execution_count": 10,
   "metadata": {
    "colab": {
     "base_uri": "https://localhost:8080/",
     "height": 341
    },
    "colab_type": "code",
    "id": "f63Mvi8eCkHH",
    "outputId": "ba921c93-1e8b-4ab5-fed6-5f07fad89e2b"
   },
   "outputs": [
    {
     "data": {
      "text/plain": [
       "(array([0, 1, 2, 3, 4, 5]), <a list of 6 Text xticklabel objects>)"
      ]
     },
     "execution_count": 10,
     "metadata": {
      "tags": []
     },
     "output_type": "execute_result"
    },
    {
     "data": {
      "image/png": "[encoded data removed]",
      "text/plain": [
       "<Figure size 432x288 with 1 Axes>"
      ]
     },
     "metadata": {
      "tags": []
     },
     "output_type": "display_data"
    }
   ],
   "source": [
    "#Now lets check the count of the Destination in the visual graph\n",
    "plot=plt.figure()\n",
    "sns.countplot('Destination',data=flights)\n",
    "plt.xticks(rotation=90)"
   ]
  },
  {
   "cell_type": "code",
   "execution_count": 11,
   "metadata": {
    "colab": {
     "base_uri": "https://localhost:8080/",
     "height": 331
    },
    "colab_type": "code",
    "id": "wLU3WKWfCkHK",
    "outputId": "ce93ceb6-0e2c-4951-9b7f-1964070204d3"
   },
   "outputs": [
    {
     "data": {
      "text/plain": [
       "(array([0, 1, 2, 3, 4]), <a list of 5 Text xticklabel objects>)"
      ]
     },
     "execution_count": 11,
     "metadata": {
      "tags": []
     },
     "output_type": "execute_result"
    },
    {
     "data": {
      "image/png": "[encoded data removed]",
      "text/plain": [
       "<Figure size 432x288 with 1 Axes>"
      ]
     },
     "metadata": {
      "tags": []
     },
     "output_type": "display_data"
    }
   ],
   "source": [
    "#Now lets check the count of the Total_Stops in the visual graph\n",
    "plot=plt.figure()\n",
    "sns.countplot('Total_Stops',data=flights)\n",
    "plt.xticks(rotation=90)"
   ]
  },
  {
   "cell_type": "code",
   "execution_count": 12,
   "metadata": {
    "colab": {
     "base_uri": "https://localhost:8080/",
     "height": 439
    },
    "colab_type": "code",
    "id": "KLsUGLbOCkHN",
    "outputId": "8b1f4af6-f0aa-42e3-9f26-9a5cc34a01b5"
   },
   "outputs": [
    {
     "data": {
      "text/plain": [
       "(array([0, 1, 2, 3, 4, 5, 6, 7, 8, 9]), <a list of 10 Text xticklabel objects>)"
      ]
     },
     "execution_count": 12,
     "metadata": {
      "tags": []
     },
     "output_type": "execute_result"
    },
    {
     "data": {
      "image/png": "[encoded data removed]",
      "text/plain": [
       "<Figure size 432x288 with 1 Axes>"
      ]
     },
     "metadata": {
      "tags": []
     },
     "output_type": "display_data"
    }
   ],
   "source": [
    "#Now lets check the count of the Additional_info in the visual graph\n",
    "plot=plt.figure()\n",
    "sns.countplot('Additional_Info',data=flights)\n",
    "plt.xticks(rotation=90)"
   ]
  },
  {
   "cell_type": "code",
   "execution_count": 0,
   "metadata": {
    "colab": {},
    "colab_type": "code",
    "id": "BBhZjKs1CkHP"
   },
   "outputs": [],
   "source": [
    "flights['Date_of_Journey']=pd.to_datetime(flights['Date_of_Journey'])\n",
    "flights['Dep_Time']=pd.to_datetime(flights['Dep_Time'],format='%H:%M').dt.time"
   ]
  },
  {
   "cell_type": "code",
   "execution_count": 0,
   "metadata": {
    "colab": {},
    "colab_type": "code",
    "id": "2YflBpBGCkHS"
   },
   "outputs": [],
   "source": [
    "#As we can see that there are two 'no_info' columns we combine them\n",
    "flights['Additional_Info']=flights['Additional_Info'].str.replace('No info','No Info')"
   ]
  },
  {
   "cell_type": "code",
   "execution_count": 0,
   "metadata": {
    "colab": {},
    "colab_type": "code",
    "id": "cqrTsvpOCkHU"
   },
   "outputs": [],
   "source": [
    "#For the duration column which is in a hour and min format lets convert it into minutes using a equation \n",
    "flights['Duration']=flights['Duration'].str.replace('h','*60').str.replace(' ','+').str.replace('m','*1').apply(eval)\n",
    "#now lets convert this column into a numeric\n",
    "flights['Duration']=pd.to_numeric(flights['Duration'])"
   ]
  },
  {
   "cell_type": "code",
   "execution_count": 0,
   "metadata": {
    "colab": {},
    "colab_type": "code",
    "id": "3bO5e66DCkHY"
   },
   "outputs": [],
   "source": [
    "#we are converting the flights day to find which day it is in the week and storing it in the weekday column\n",
    "flights['weekday']=flights[['Date_of_Journey']].apply(lambda x:x.dt.day_name())"
   ]
  },
  {
   "cell_type": "code",
   "execution_count": 17,
   "metadata": {
    "colab": {
     "base_uri": "https://localhost:8080/",
     "height": 296
    },
    "colab_type": "code",
    "id": "QyAVSS7oCkHc",
    "outputId": "abc90b33-5c5a-4ef0-cb51-f2f391a6eab8"
   },
   "outputs": [
    {
     "data": {
      "text/plain": [
       "<matplotlib.axes._subplots.AxesSubplot at 0x7f15e7ddcbe0>"
      ]
     },
     "execution_count": 17,
     "metadata": {
      "tags": []
     },
     "output_type": "execute_result"
    },
    {
     "data": {
      "image/png": "[encoded data removed]",
      "text/plain": [
       "<Figure size 432x288 with 1 Axes>"
      ]
     },
     "metadata": {
      "tags": []
     },
     "output_type": "display_data"
    }
   ],
   "source": [
    "#now lets check the day of the journey relation with the output price column\n",
    "sns.barplot('weekday','Price',data=flights)"
   ]
  },
  {
   "cell_type": "code",
   "execution_count": 0,
   "metadata": {
    "colab": {},
    "colab_type": "code",
    "id": "RAPE0cg0CkHf"
   },
   "outputs": [],
   "source": [
    "#we are converting the flights date to find which month it is and storing it in the month column\n",
    "flights[\"month\"] = flights['Date_of_Journey'].map(lambda x: x.month_name())"
   ]
  },
  {
   "cell_type": "code",
   "execution_count": 19,
   "metadata": {
    "colab": {
     "base_uri": "https://localhost:8080/",
     "height": 296
    },
    "colab_type": "code",
    "id": "Wci3dx3eCkHh",
    "outputId": "c75f7e27-e52c-4fb4-b338-75dd48708793"
   },
   "outputs": [
    {
     "data": {
      "text/plain": [
       "<matplotlib.axes._subplots.AxesSubplot at 0x7f15e7d37dd8>"
      ]
     },
     "execution_count": 19,
     "metadata": {
      "tags": []
     },
     "output_type": "execute_result"
    },
    {
     "data": {
      "image/png": "[encoded data removed]",
      "text/plain": [
       "<Figure size 432x288 with 1 Axes>"
      ]
     },
     "metadata": {
      "tags": []
     },
     "output_type": "display_data"
    }
   ],
   "source": [
    "#now lets check the month of journey relation with the output price column\n",
    "sns.barplot('month','Price',data=flights)"
   ]
  },
  {
   "cell_type": "code",
   "execution_count": 0,
   "metadata": {
    "colab": {},
    "colab_type": "code",
    "id": "QKv9yB1QCkHk"
   },
   "outputs": [],
   "source": [
    "# we are taking the departure time hour column and converting it into a numeric\n",
    "flights['Dep_Time']=flights['Dep_Time'].apply(lambda x:x.hour)\n",
    "flights['Dep_Time']=pd.to_numeric(flights['Dep_Time'])"
   ]
  },
  {
   "cell_type": "code",
   "execution_count": 21,
   "metadata": {
    "colab": {
     "base_uri": "https://localhost:8080/",
     "height": 297
    },
    "colab_type": "code",
    "id": "qoxYUnotCkHq",
    "outputId": "de2c7630-e319-4f15-90b7-7ffc66598776"
   },
   "outputs": [
    {
     "data": {
      "text/plain": [
       "<matplotlib.axes._subplots.AxesSubplot at 0x7f15e8117400>"
      ]
     },
     "execution_count": 21,
     "metadata": {
      "tags": []
     },
     "output_type": "execute_result"
    },
    {
     "data": {
      "image/png": "[encoded data removed]",
      "text/plain": [
       "<Figure size 432x288 with 1 Axes>"
      ]
     },
     "metadata": {
      "tags": []
     },
     "output_type": "display_data"
    }
   ],
   "source": [
    "#now lets check the departure time relation with the output price column\n",
    "sns.barplot('Dep_Time','Price',data=flights)"
   ]
  },
  {
   "cell_type": "code",
   "execution_count": 22,
   "metadata": {
    "colab": {
     "base_uri": "https://localhost:8080/",
     "height": 329
    },
    "colab_type": "code",
    "id": "0iDhsP-_CkHw",
    "outputId": "92c3a176-3f9f-4b2c-bb9e-d55a02203e4a"
   },
   "outputs": [
    {
     "data": {
      "text/plain": [
       "(array([-500.,    0.,  500., 1000., 1500., 2000., 2500., 3000., 3500.]),\n",
       " <a list of 9 Text xticklabel objects>)"
      ]
     },
     "execution_count": 22,
     "metadata": {
      "tags": []
     },
     "output_type": "execute_result"
    },
    {
     "data": {
      "image/png": "[encoded data removed]",
      "text/plain": [
       "<Figure size 432x288 with 1 Axes>"
      ]
     },
     "metadata": {
      "tags": []
     },
     "output_type": "display_data"
    }
   ],
   "source": [
    "#Now lets check this Duration column in a histogram\n",
    "plot=plt.figure()\n",
    "sns.distplot(flights['Duration'],bins=40)\n",
    "plt.xticks(rotation=90)"
   ]
  },
  {
   "cell_type": "code",
   "execution_count": 0,
   "metadata": {
    "colab": {},
    "colab_type": "code",
    "id": "KyX1Aqo4CkH1"
   },
   "outputs": [],
   "source": [
    "flights['Duration']=np.log(flights['Duration'])"
   ]
  },
  {
   "cell_type": "code",
   "execution_count": 24,
   "metadata": {
    "colab": {
     "base_uri": "https://localhost:8080/",
     "height": 310
    },
    "colab_type": "code",
    "id": "2gWbxjX_CkH3",
    "outputId": "afbb294c-b537-4e97-908e-b6ec403f49f9"
   },
   "outputs": [
    {
     "data": {
      "text/plain": [
       "(array([0., 1., 2., 3., 4., 5., 6., 7., 8., 9.]),\n",
       " <a list of 10 Text xticklabel objects>)"
      ]
     },
     "execution_count": 24,
     "metadata": {
      "tags": []
     },
     "output_type": "execute_result"
    },
    {
     "data": {
      "image/png": "[encoded data removed]",
      "text/plain": [
       "<Figure size 432x288 with 1 Axes>"
      ]
     },
     "metadata": {
      "tags": []
     },
     "output_type": "display_data"
    }
   ],
   "source": [
    "plot=plt.figure()\n",
    "sns.distplot(flights['Duration'],bins=40)\n",
    "plt.xticks(rotation=90)"
   ]
  },
  {
   "cell_type": "code",
   "execution_count": 25,
   "metadata": {
    "colab": {
     "base_uri": "https://localhost:8080/",
     "height": 598
    },
    "colab_type": "code",
    "id": "GUzCCw5jCkH5",
    "outputId": "23140cae-60b0-4916-bba5-577a348cb645"
   },
   "outputs": [
    {
     "data": {
      "text/html": [
       "<div>\n",
       "<style scoped>\n",
       "    .dataframe tbody tr th:only-of-type {\n",
       "        vertical-align: middle;\n",
       "    }\n",
       "\n",
       "    .dataframe tbody tr th {\n",
       "        vertical-align: top;\n",
       "    }\n",
       "\n",
       "    .dataframe thead th {\n",
       "        text-align: right;\n",
       "    }\n",
       "</style>\n",
       "<table border=\"1\" class=\"dataframe\">\n",
       "  <thead>\n",
       "    <tr style=\"text-align: right;\">\n",
       "      <th></th>\n",
       "      <th>Airline</th>\n",
       "      <th>Date_of_Journey</th>\n",
       "      <th>Source</th>\n",
       "      <th>Destination</th>\n",
       "      <th>Route</th>\n",
       "      <th>Dep_Time</th>\n",
       "      <th>Arrival_Time</th>\n",
       "      <th>Duration</th>\n",
       "      <th>Total_Stops</th>\n",
       "      <th>Additional_Info</th>\n",
       "      <th>Price</th>\n",
       "      <th>weekday</th>\n",
       "      <th>month</th>\n",
       "    </tr>\n",
       "  </thead>\n",
       "  <tbody>\n",
       "    <tr>\n",
       "      <th>0</th>\n",
       "      <td>IndiGo</td>\n",
       "      <td>2019-03-24</td>\n",
       "      <td>Banglore</td>\n",
       "      <td>New Delhi</td>\n",
       "      <td>BLR → DEL</td>\n",
       "      <td>22</td>\n",
       "      <td>01:10 22 Mar</td>\n",
       "      <td>5.135798</td>\n",
       "      <td>non-stop</td>\n",
       "      <td>No Info</td>\n",
       "      <td>3897</td>\n",
       "      <td>Sunday</td>\n",
       "      <td>March</td>\n",
       "    </tr>\n",
       "    <tr>\n",
       "      <th>1</th>\n",
       "      <td>Air India</td>\n",
       "      <td>2019-01-05</td>\n",
       "      <td>Kolkata</td>\n",
       "      <td>Banglore</td>\n",
       "      <td>CCU → IXR → BBI → BLR</td>\n",
       "      <td>5</td>\n",
       "      <td>13:15</td>\n",
       "      <td>6.098074</td>\n",
       "      <td>2 stops</td>\n",
       "      <td>No Info</td>\n",
       "      <td>7662</td>\n",
       "      <td>Saturday</td>\n",
       "      <td>January</td>\n",
       "    </tr>\n",
       "    <tr>\n",
       "      <th>2</th>\n",
       "      <td>Jet Airways</td>\n",
       "      <td>2019-09-06</td>\n",
       "      <td>Delhi</td>\n",
       "      <td>Cochin</td>\n",
       "      <td>DEL → LKO → BOM → COK</td>\n",
       "      <td>9</td>\n",
       "      <td>04:25 10 Jun</td>\n",
       "      <td>7.038784</td>\n",
       "      <td>2 stops</td>\n",
       "      <td>No Info</td>\n",
       "      <td>13882</td>\n",
       "      <td>Friday</td>\n",
       "      <td>September</td>\n",
       "    </tr>\n",
       "    <tr>\n",
       "      <th>3</th>\n",
       "      <td>IndiGo</td>\n",
       "      <td>2019-12-05</td>\n",
       "      <td>Kolkata</td>\n",
       "      <td>Banglore</td>\n",
       "      <td>CCU → NAG → BLR</td>\n",
       "      <td>18</td>\n",
       "      <td>23:30</td>\n",
       "      <td>5.783825</td>\n",
       "      <td>1 stop</td>\n",
       "      <td>No Info</td>\n",
       "      <td>6218</td>\n",
       "      <td>Thursday</td>\n",
       "      <td>December</td>\n",
       "    </tr>\n",
       "    <tr>\n",
       "      <th>4</th>\n",
       "      <td>IndiGo</td>\n",
       "      <td>2019-01-03</td>\n",
       "      <td>Banglore</td>\n",
       "      <td>New Delhi</td>\n",
       "      <td>BLR → NAG → DEL</td>\n",
       "      <td>16</td>\n",
       "      <td>21:35</td>\n",
       "      <td>5.652489</td>\n",
       "      <td>1 stop</td>\n",
       "      <td>No Info</td>\n",
       "      <td>13302</td>\n",
       "      <td>Thursday</td>\n",
       "      <td>January</td>\n",
       "    </tr>\n",
       "  </tbody>\n",
       "</table>\n",
       "</div>"
      ],
      "text/plain": [
       "       Airline Date_of_Journey    Source  ...  Price   weekday      month\n",
       "0       IndiGo      2019-03-24  Banglore  ...   3897    Sunday      March\n",
       "1    Air India      2019-01-05   Kolkata  ...   7662  Saturday    January\n",
       "2  Jet Airways      2019-09-06     Delhi  ...  13882    Friday  September\n",
       "3       IndiGo      2019-12-05   Kolkata  ...   6218  Thursday   December\n",
       "4       IndiGo      2019-01-03  Banglore  ...  13302  Thursday    January\n",
       "\n",
       "[5 rows x 13 columns]"
      ]
     },
     "execution_count": 25,
     "metadata": {
      "tags": []
     },
     "output_type": "execute_result"
    }
   ],
   "source": [
    "flights.head()"
   ]
  },
  {
   "cell_type": "code",
   "execution_count": 0,
   "metadata": {
    "colab": {},
    "colab_type": "code",
    "id": "gSZhsr0PCkIA"
   },
   "outputs": [],
   "source": [
    "#Now lets remove the irrelevant features\n",
    "flights.drop(['Route','Arrival_Time','Date_of_Journey'],axis=1,inplace=True)"
   ]
  },
  {
   "cell_type": "code",
   "execution_count": 27,
   "metadata": {
    "colab": {
     "base_uri": "https://localhost:8080/",
     "height": 198
    },
    "colab_type": "code",
    "id": "QTSAMYckCkIC",
    "outputId": "e88a8251-0bc0-437a-ccaf-a70d5b962519"
   },
   "outputs": [
    {
     "data": {
      "text/html": [
       "<div>\n",
       "<style scoped>\n",
       "    .dataframe tbody tr th:only-of-type {\n",
       "        vertical-align: middle;\n",
       "    }\n",
       "\n",
       "    .dataframe tbody tr th {\n",
       "        vertical-align: top;\n",
       "    }\n",
       "\n",
       "    .dataframe thead th {\n",
       "        text-align: right;\n",
       "    }\n",
       "</style>\n",
       "<table border=\"1\" class=\"dataframe\">\n",
       "  <thead>\n",
       "    <tr style=\"text-align: right;\">\n",
       "      <th></th>\n",
       "      <th>Airline</th>\n",
       "      <th>Source</th>\n",
       "      <th>Destination</th>\n",
       "      <th>Dep_Time</th>\n",
       "      <th>Duration</th>\n",
       "      <th>Total_Stops</th>\n",
       "      <th>Additional_Info</th>\n",
       "      <th>Price</th>\n",
       "      <th>weekday</th>\n",
       "      <th>month</th>\n",
       "    </tr>\n",
       "  </thead>\n",
       "  <tbody>\n",
       "    <tr>\n",
       "      <th>0</th>\n",
       "      <td>IndiGo</td>\n",
       "      <td>Banglore</td>\n",
       "      <td>New Delhi</td>\n",
       "      <td>22</td>\n",
       "      <td>5.135798</td>\n",
       "      <td>non-stop</td>\n",
       "      <td>No Info</td>\n",
       "      <td>3897</td>\n",
       "      <td>Sunday</td>\n",
       "      <td>March</td>\n",
       "    </tr>\n",
       "    <tr>\n",
       "      <th>1</th>\n",
       "      <td>Air India</td>\n",
       "      <td>Kolkata</td>\n",
       "      <td>Banglore</td>\n",
       "      <td>5</td>\n",
       "      <td>6.098074</td>\n",
       "      <td>2 stops</td>\n",
       "      <td>No Info</td>\n",
       "      <td>7662</td>\n",
       "      <td>Saturday</td>\n",
       "      <td>January</td>\n",
       "    </tr>\n",
       "    <tr>\n",
       "      <th>2</th>\n",
       "      <td>Jet Airways</td>\n",
       "      <td>Delhi</td>\n",
       "      <td>Cochin</td>\n",
       "      <td>9</td>\n",
       "      <td>7.038784</td>\n",
       "      <td>2 stops</td>\n",
       "      <td>No Info</td>\n",
       "      <td>13882</td>\n",
       "      <td>Friday</td>\n",
       "      <td>September</td>\n",
       "    </tr>\n",
       "    <tr>\n",
       "      <th>3</th>\n",
       "      <td>IndiGo</td>\n",
       "      <td>Kolkata</td>\n",
       "      <td>Banglore</td>\n",
       "      <td>18</td>\n",
       "      <td>5.783825</td>\n",
       "      <td>1 stop</td>\n",
       "      <td>No Info</td>\n",
       "      <td>6218</td>\n",
       "      <td>Thursday</td>\n",
       "      <td>December</td>\n",
       "    </tr>\n",
       "    <tr>\n",
       "      <th>4</th>\n",
       "      <td>IndiGo</td>\n",
       "      <td>Banglore</td>\n",
       "      <td>New Delhi</td>\n",
       "      <td>16</td>\n",
       "      <td>5.652489</td>\n",
       "      <td>1 stop</td>\n",
       "      <td>No Info</td>\n",
       "      <td>13302</td>\n",
       "      <td>Thursday</td>\n",
       "      <td>January</td>\n",
       "    </tr>\n",
       "  </tbody>\n",
       "</table>\n",
       "</div>"
      ],
      "text/plain": [
       "       Airline    Source Destination  ...  Price   weekday      month\n",
       "0       IndiGo  Banglore   New Delhi  ...   3897    Sunday      March\n",
       "1    Air India   Kolkata    Banglore  ...   7662  Saturday    January\n",
       "2  Jet Airways     Delhi      Cochin  ...  13882    Friday  September\n",
       "3       IndiGo   Kolkata    Banglore  ...   6218  Thursday   December\n",
       "4       IndiGo  Banglore   New Delhi  ...  13302  Thursday    January\n",
       "\n",
       "[5 rows x 10 columns]"
      ]
     },
     "execution_count": 27,
     "metadata": {
      "tags": []
     },
     "output_type": "execute_result"
    }
   ],
   "source": [
    "flights.head()"
   ]
  },
  {
   "cell_type": "code",
   "execution_count": 0,
   "metadata": {
    "colab": {},
    "colab_type": "code",
    "id": "PitgUGJgCkIF"
   },
   "outputs": [],
   "source": [
    "#Now lets encode the inputs using label encoder\n",
    "from sklearn.preprocessing import LabelEncoder\n",
    "var_mod = ['Airline','Source','Destination','Additional_Info','Total_Stops','weekday','month','Dep_Time']\n",
    "le = LabelEncoder()\n",
    "for i in var_mod:\n",
    "    flights[i] = le.fit_transform(flights[i])"
   ]
  },
  {
   "cell_type": "code",
   "execution_count": 29,
   "metadata": {
    "colab": {
     "base_uri": "https://localhost:8080/",
     "height": 198
    },
    "colab_type": "code",
    "id": "dN-ApYToCkII",
    "outputId": "005adda0-8bbc-423b-ed52-ee148736f6cd"
   },
   "outputs": [
    {
     "data": {
      "text/html": [
       "<div>\n",
       "<style scoped>\n",
       "    .dataframe tbody tr th:only-of-type {\n",
       "        vertical-align: middle;\n",
       "    }\n",
       "\n",
       "    .dataframe tbody tr th {\n",
       "        vertical-align: top;\n",
       "    }\n",
       "\n",
       "    .dataframe thead th {\n",
       "        text-align: right;\n",
       "    }\n",
       "</style>\n",
       "<table border=\"1\" class=\"dataframe\">\n",
       "  <thead>\n",
       "    <tr style=\"text-align: right;\">\n",
       "      <th></th>\n",
       "      <th>Airline</th>\n",
       "      <th>Source</th>\n",
       "      <th>Destination</th>\n",
       "      <th>Dep_Time</th>\n",
       "      <th>Duration</th>\n",
       "      <th>Total_Stops</th>\n",
       "      <th>Additional_Info</th>\n",
       "      <th>Price</th>\n",
       "      <th>weekday</th>\n",
       "      <th>month</th>\n",
       "    </tr>\n",
       "  </thead>\n",
       "  <tbody>\n",
       "    <tr>\n",
       "      <th>0</th>\n",
       "      <td>3</td>\n",
       "      <td>0</td>\n",
       "      <td>5</td>\n",
       "      <td>22</td>\n",
       "      <td>5.135798</td>\n",
       "      <td>4</td>\n",
       "      <td>6</td>\n",
       "      <td>3897</td>\n",
       "      <td>3</td>\n",
       "      <td>4</td>\n",
       "    </tr>\n",
       "    <tr>\n",
       "      <th>1</th>\n",
       "      <td>1</td>\n",
       "      <td>3</td>\n",
       "      <td>0</td>\n",
       "      <td>5</td>\n",
       "      <td>6.098074</td>\n",
       "      <td>1</td>\n",
       "      <td>6</td>\n",
       "      <td>7662</td>\n",
       "      <td>2</td>\n",
       "      <td>2</td>\n",
       "    </tr>\n",
       "    <tr>\n",
       "      <th>2</th>\n",
       "      <td>4</td>\n",
       "      <td>2</td>\n",
       "      <td>1</td>\n",
       "      <td>9</td>\n",
       "      <td>7.038784</td>\n",
       "      <td>1</td>\n",
       "      <td>6</td>\n",
       "      <td>13882</td>\n",
       "      <td>0</td>\n",
       "      <td>6</td>\n",
       "    </tr>\n",
       "    <tr>\n",
       "      <th>3</th>\n",
       "      <td>3</td>\n",
       "      <td>3</td>\n",
       "      <td>0</td>\n",
       "      <td>18</td>\n",
       "      <td>5.783825</td>\n",
       "      <td>0</td>\n",
       "      <td>6</td>\n",
       "      <td>6218</td>\n",
       "      <td>4</td>\n",
       "      <td>1</td>\n",
       "    </tr>\n",
       "    <tr>\n",
       "      <th>4</th>\n",
       "      <td>3</td>\n",
       "      <td>0</td>\n",
       "      <td>5</td>\n",
       "      <td>16</td>\n",
       "      <td>5.652489</td>\n",
       "      <td>0</td>\n",
       "      <td>6</td>\n",
       "      <td>13302</td>\n",
       "      <td>4</td>\n",
       "      <td>2</td>\n",
       "    </tr>\n",
       "  </tbody>\n",
       "</table>\n",
       "</div>"
      ],
      "text/plain": [
       "   Airline  Source  Destination  ...  Price  weekday  month\n",
       "0        3       0            5  ...   3897        3      4\n",
       "1        1       3            0  ...   7662        2      2\n",
       "2        4       2            1  ...  13882        0      6\n",
       "3        3       3            0  ...   6218        4      1\n",
       "4        3       0            5  ...  13302        4      2\n",
       "\n",
       "[5 rows x 10 columns]"
      ]
     },
     "execution_count": 29,
     "metadata": {
      "tags": []
     },
     "output_type": "execute_result"
    }
   ],
   "source": [
    "flights.head()"
   ]
  },
  {
   "cell_type": "markdown",
   "metadata": {
    "colab_type": "text",
    "id": "0LqxDLcQCkIL"
   },
   "source": [
    "# Assigning Input and output variables"
   ]
  },
  {
   "cell_type": "code",
   "execution_count": 0,
   "metadata": {
    "colab": {},
    "colab_type": "code",
    "id": "LTVd7Pu9CkIM"
   },
   "outputs": [],
   "source": [
    "x=flights.drop('Price',axis=1)#taking all the other columns except price \n",
    "y=flights['Price']"
   ]
  },
  {
   "cell_type": "markdown",
   "metadata": {
    "colab_type": "text",
    "id": "TKEbVr7VCkIP"
   },
   "source": [
    "# Train Test Split"
   ]
  },
  {
   "cell_type": "code",
   "execution_count": 0,
   "metadata": {
    "colab": {},
    "colab_type": "code",
    "id": "hEEoqLm0CkIP"
   },
   "outputs": [],
   "source": [
    "from sklearn.model_selection import train_test_split"
   ]
  },
  {
   "cell_type": "code",
   "execution_count": 0,
   "metadata": {
    "colab": {},
    "colab_type": "code",
    "id": "uVcFIF5vCkIU"
   },
   "outputs": [],
   "source": [
    "#We are splitting the data in to two parts one is used to train the model and another is used to evaluate the model\n",
    "x_train, x_test, y_train, y_test = train_test_split(x, y, test_size=0.2, random_state=101)"
   ]
  },
  {
   "cell_type": "markdown",
   "metadata": {
    "colab_type": "text",
    "id": "1q_UBhOYCkIa"
   },
   "source": [
    "# Building a model\n",
    "** Importing the required regressions"
   ]
  },
  {
   "cell_type": "code",
   "execution_count": 0,
   "metadata": {
    "colab": {},
    "colab_type": "code",
    "id": "J8dWHqhCCkIb"
   },
   "outputs": [],
   "source": [
    "from sklearn.ensemble import RandomForestRegressor"
   ]
  },
  {
   "cell_type": "code",
   "execution_count": 0,
   "metadata": {
    "colab": {},
    "colab_type": "code",
    "id": "6LxHT5T8CkId"
   },
   "outputs": [],
   "source": [
    "# Defining the RandomForestRegressor\n",
    "rfr=RandomForestRegressor(n_estimators=100)"
   ]
  },
  {
   "cell_type": "code",
   "execution_count": 35,
   "metadata": {
    "colab": {
     "base_uri": "https://localhost:8080/",
     "height": 0
    },
    "colab_type": "code",
    "id": "Ck3plFoJCkIf",
    "outputId": "ec31d5c7-d305-40b5-a7b1-990dbea24e5e"
   },
   "outputs": [
    {
     "data": {
      "text/plain": [
       "RandomForestRegressor(bootstrap=True, criterion='mse', max_depth=None,\n",
       "                      max_features='auto', max_leaf_nodes=None,\n",
       "                      min_impurity_decrease=0.0, min_impurity_split=None,\n",
       "                      min_samples_leaf=1, min_samples_split=2,\n",
       "                      min_weight_fraction_leaf=0.0, n_estimators=100,\n",
       "                      n_jobs=None, oob_score=False, random_state=None,\n",
       "                      verbose=0, warm_start=False)"
      ]
     },
     "execution_count": 35,
     "metadata": {
      "tags": []
     },
     "output_type": "execute_result"
    }
   ],
   "source": [
    "# Training the model\n",
    "rfr.fit(x_train,y_train)"
   ]
  },
  {
   "cell_type": "code",
   "execution_count": 36,
   "metadata": {
    "colab": {
     "base_uri": "https://localhost:8080/",
     "height": 0
    },
    "colab_type": "code",
    "id": "PGVGQ6IZCkIh",
    "outputId": "840edfaf-86f3-448b-9da0-f1ff203835bc"
   },
   "outputs": [
    {
     "data": {
      "text/plain": [
       "Text(0.5, 0, 'Relative Importance')"
      ]
     },
     "execution_count": 36,
     "metadata": {
      "tags": []
     },
     "output_type": "execute_result"
    },
    {
     "data": {
      "image/png": "[encoded data removed]",
      "text/plain": [
       "<Figure size 432x288 with 1 Axes>"
      ]
     },
     "metadata": {
      "tags": []
     },
     "output_type": "display_data"
    }
   ],
   "source": [
    "# In random forest we have a method to determine the feature importance in accordance with the relevance of the data\n",
    "# lets check that once\n",
    "features=x.columns\n",
    "importances = rfr.feature_importances_\n",
    "indices = np.argsort(importances)\n",
    "plt.figure(1)\n",
    "plt.title('Feature Importances')\n",
    "plt.barh(range(len(indices)), importances[indices], color='b', align='center')\n",
    "plt.yticks(range(len(indices)), features[indices])\n",
    "plt.xlabel('Relative Importance')"
   ]
  },
  {
   "cell_type": "markdown",
   "metadata": {
    "colab_type": "text",
    "id": "xi-nDzQPCkIk"
   },
   "source": [
    "** Now we can predict the data"
   ]
  },
  {
   "cell_type": "code",
   "execution_count": 0,
   "metadata": {
    "colab": {},
    "colab_type": "code",
    "id": "ax7Im3x7CkIl"
   },
   "outputs": [],
   "source": [
    "predictions=rfr.predict(x_test)"
   ]
  },
  {
   "cell_type": "code",
   "execution_count": 38,
   "metadata": {
    "colab": {
     "base_uri": "https://localhost:8080/",
     "height": 0
    },
    "colab_type": "code",
    "id": "qa4d9WPOCkIn",
    "outputId": "67e651b9-ffc3-4599-9374-357442a190f3"
   },
   "outputs": [
    {
     "data": {
      "text/plain": [
       "<matplotlib.collections.PathCollection at 0x7f15e40ccba8>"
      ]
     },
     "execution_count": 38,
     "metadata": {
      "tags": []
     },
     "output_type": "execute_result"
    },
    {
     "data": {
      "image/png": "[encoded data removed]",
      "text/plain": [
       "<Figure size 432x288 with 1 Axes>"
      ]
     },
     "metadata": {
      "tags": []
     },
     "output_type": "display_data"
    }
   ],
   "source": [
    "plt.scatter(y_test,predictions)"
   ]
  },
  {
   "cell_type": "markdown",
   "metadata": {
    "colab_type": "text",
    "id": "kp-QL-6yCkIp"
   },
   "source": [
    "# Regression Evaluation Metrics"
   ]
  },
  {
   "cell_type": "code",
   "execution_count": 0,
   "metadata": {
    "colab": {},
    "colab_type": "code",
    "id": "Zl3BJMs0CkIq"
   },
   "outputs": [],
   "source": [
    "from sklearn import metrics"
   ]
  },
  {
   "cell_type": "code",
   "execution_count": 40,
   "metadata": {
    "colab": {
     "base_uri": "https://localhost:8080/",
     "height": 86
    },
    "colab_type": "code",
    "id": "evfv6eTcCkIt",
    "outputId": "cac7738d-dd07-4925-d74b-74522b732a05"
   },
   "outputs": [
    {
     "name": "stdout",
     "output_type": "stream",
     "text": [
      "MAE: 992.8192100824747\n",
      "MSE: 3839700.7193041984\n",
      "RMSE: 1959.5154297183267\n",
      "r2_score: 0.8232502798753852\n"
     ]
    }
   ],
   "source": [
    "print('MAE:', metrics.mean_absolute_error(y_test, predictions))\n",
    "print('MSE:', metrics.mean_squared_error(y_test, predictions))\n",
    "print('RMSE:', np.sqrt(metrics.mean_squared_error(y_test, predictions)))\n",
    "print('r2_score:', (metrics.r2_score(y_test, predictions)))"
   ]
  },
  {
   "cell_type": "markdown",
   "metadata": {
    "colab_type": "text",
    "id": "oI5YxSoFCkIv"
   },
   "source": [
    "# Residual Histogram"
   ]
  },
  {
   "cell_type": "code",
   "execution_count": 41,
   "metadata": {
    "colab": {
     "base_uri": "https://localhost:8080/",
     "height": 296
    },
    "colab_type": "code",
    "id": "v9Hcb3mHCkIv",
    "outputId": "45a01c57-f45c-4344-e7d4-c26a01c8adf6"
   },
   "outputs": [
    {
     "data": {
      "text/plain": [
       "<matplotlib.axes._subplots.AxesSubplot at 0x7f15e4060390>"
      ]
     },
     "execution_count": 41,
     "metadata": {
      "tags": []
     },
     "output_type": "execute_result"
    },
    {
     "data": {
      "image/png": "[encoded data removed]",
      "text/plain": [
       "<Figure size 432x288 with 1 Axes>"
      ]
     },
     "metadata": {
      "tags": []
     },
     "output_type": "display_data"
    }
   ],
   "source": [
    "sns.distplot((y_test-predictions),bins=50)"
   ]
  },
  {
   "cell_type": "markdown",
   "metadata": {
    "colab_type": "text",
    "id": "SdQEKOENCkIy"
   },
   "source": [
    "**Applying Different regressions to check the r2_score to see which one is appropriate"
   ]
  },
  {
   "cell_type": "code",
   "execution_count": 0,
   "metadata": {
    "colab": {},
    "colab_type": "code",
    "id": "o1SNQlrKCkIy"
   },
   "outputs": [],
   "source": [
    "from sklearn.linear_model import LinearRegression\n",
    "from sklearn.svm import SVR\n",
    "from sklearn.ensemble import RandomForestRegressor,GradientBoostingRegressor,ExtraTreesRegressor\n",
    "from sklearn.tree import DecisionTreeRegressor"
   ]
  },
  {
   "cell_type": "code",
   "execution_count": 0,
   "metadata": {
    "colab": {},
    "colab_type": "code",
    "id": "SsINeEKACkI1"
   },
   "outputs": [],
   "source": [
    "from sklearn.metrics import r2_score,make_scorer"
   ]
  },
  {
   "cell_type": "code",
   "execution_count": 0,
   "metadata": {
    "colab": {},
    "colab_type": "code",
    "id": "EoTGT0eWCkI5"
   },
   "outputs": [],
   "source": [
    "from sklearn.model_selection import cross_val_score"
   ]
  },
  {
   "cell_type": "code",
   "execution_count": 0,
   "metadata": {
    "colab": {},
    "colab_type": "code",
    "id": "ymzXidf-CkI7"
   },
   "outputs": [],
   "source": [
    "regg=[LinearRegression(),RandomForestRegressor(n_estimators=30),GradientBoostingRegressor(),ExtraTreesRegressor(n_estimators=30),SVR(),DecisionTreeRegressor()]"
   ]
  },
  {
   "cell_type": "code",
   "execution_count": 46,
   "metadata": {
    "colab": {
     "base_uri": "https://localhost:8080/",
     "height": 224
    },
    "colab_type": "code",
    "id": "FOzDBEsnCkI9",
    "outputId": "b4eee25f-f898-4bac-958a-80ede73eb04c"
   },
   "outputs": [
    {
     "name": "stderr",
     "output_type": "stream",
     "text": [
      "[Parallel(n_jobs=-1)]: Using backend LokyBackend with 2 concurrent workers.\n",
      "[Parallel(n_jobs=-1)]: Done   5 out of   5 | elapsed:    2.4s finished\n",
      "[Parallel(n_jobs=-1)]: Using backend LokyBackend with 2 concurrent workers.\n",
      "[Parallel(n_jobs=-1)]: Done   5 out of   5 | elapsed:    4.1s finished\n",
      "[Parallel(n_jobs=-1)]: Using backend LokyBackend with 2 concurrent workers.\n",
      "[Parallel(n_jobs=-1)]: Done   5 out of   5 | elapsed:    3.5s finished\n",
      "[Parallel(n_jobs=-1)]: Using backend LokyBackend with 2 concurrent workers.\n",
      "[Parallel(n_jobs=-1)]: Done   5 out of   5 | elapsed:    3.6s finished\n",
      "[Parallel(n_jobs=-1)]: Using backend LokyBackend with 2 concurrent workers.\n",
      "[Parallel(n_jobs=-1)]: Done   5 out of   5 | elapsed:   24.0s finished\n",
      "[Parallel(n_jobs=-1)]: Using backend LokyBackend with 2 concurrent workers.\n",
      "[Parallel(n_jobs=-1)]: Done   5 out of   5 | elapsed:    2.0s finished\n"
     ]
    }
   ],
   "source": [
    "mean=[]\n",
    "std=[]\n",
    "for i in regg:\n",
    "    cvs=cross_val_score(i,x,y,cv=5,scoring=make_scorer(r2_score),verbose=1,n_jobs=-1)\n",
    "    mean.append(np.mean(cvs))\n",
    "    std.append(np.std(cvs))"
   ]
  },
  {
   "cell_type": "code",
   "execution_count": 47,
   "metadata": {
    "colab": {
     "base_uri": "https://localhost:8080/",
     "height": 121
    },
    "colab_type": "code",
    "id": "GGH_yhulCkJD",
    "outputId": "5b9e08f5-643e-4bb8-c456-5233e5403dc8"
   },
   "outputs": [
    {
     "name": "stdout",
     "output_type": "stream",
     "text": [
      "LinearRegression : 0.4127322917031381\n",
      "RandomForestRegressor : 0.8017029948777769\n",
      "GradientBoostingRegressor : 0.7596729063507107\n",
      "ExtraTreesRegressor : 0.812027735190816\n",
      "SVR : -0.005885352031139779\n",
      "DecisionTreeRegressor : 0.6745081472443598\n"
     ]
    }
   ],
   "source": [
    "for i in range(6):\n",
    "    print(regg[i].__class__.__name__,':',mean[i])"
   ]
  },
  {
   "cell_type": "markdown",
   "metadata": {
    "colab_type": "text",
    "id": "0AhsgbTfCkJI"
   },
   "source": [
    "**From this we can infer that Random Forest regressor is giving the highest R2_score so lets test our data with Random Forest regressor"
   ]
  },
  {
   "cell_type": "markdown",
   "metadata": {
    "colab_type": "text",
    "id": "YcKXCh1fCkJJ"
   },
   "source": [
    "# Applying the regressions on a new test data file"
   ]
  },
  {
   "cell_type": "code",
   "execution_count": 0,
   "metadata": {
    "colab": {},
    "colab_type": "code",
    "id": "WVoY_KYbCkJK"
   },
   "outputs": [],
   "source": [
    "test_file=pd.read_excel('Test_set.xlsx')"
   ]
  },
  {
   "cell_type": "code",
   "execution_count": 49,
   "metadata": {
    "colab": {
     "base_uri": "https://localhost:8080/",
     "height": 267
    },
    "colab_type": "code",
    "id": "TE3r22cgCkJO",
    "outputId": "ed6ab838-5834-4f7f-fe7b-68249b8b1d29"
   },
   "outputs": [
    {
     "data": {
      "text/html": [
       "<div>\n",
       "<style scoped>\n",
       "    .dataframe tbody tr th:only-of-type {\n",
       "        vertical-align: middle;\n",
       "    }\n",
       "\n",
       "    .dataframe tbody tr th {\n",
       "        vertical-align: top;\n",
       "    }\n",
       "\n",
       "    .dataframe thead th {\n",
       "        text-align: right;\n",
       "    }\n",
       "</style>\n",
       "<table border=\"1\" class=\"dataframe\">\n",
       "  <thead>\n",
       "    <tr style=\"text-align: right;\">\n",
       "      <th></th>\n",
       "      <th>Airline</th>\n",
       "      <th>Date_of_Journey</th>\n",
       "      <th>Source</th>\n",
       "      <th>Destination</th>\n",
       "      <th>Route</th>\n",
       "      <th>Dep_Time</th>\n",
       "      <th>Arrival_Time</th>\n",
       "      <th>Duration</th>\n",
       "      <th>Total_Stops</th>\n",
       "      <th>Additional_Info</th>\n",
       "    </tr>\n",
       "  </thead>\n",
       "  <tbody>\n",
       "    <tr>\n",
       "      <th>0</th>\n",
       "      <td>Jet Airways</td>\n",
       "      <td>6/06/2019</td>\n",
       "      <td>Delhi</td>\n",
       "      <td>Cochin</td>\n",
       "      <td>DEL → BOM → COK</td>\n",
       "      <td>17:30</td>\n",
       "      <td>04:25 07 Jun</td>\n",
       "      <td>10h 55m</td>\n",
       "      <td>1 stop</td>\n",
       "      <td>No info</td>\n",
       "    </tr>\n",
       "    <tr>\n",
       "      <th>1</th>\n",
       "      <td>IndiGo</td>\n",
       "      <td>12/05/2019</td>\n",
       "      <td>Kolkata</td>\n",
       "      <td>Banglore</td>\n",
       "      <td>CCU → MAA → BLR</td>\n",
       "      <td>06:20</td>\n",
       "      <td>10:20</td>\n",
       "      <td>4h</td>\n",
       "      <td>1 stop</td>\n",
       "      <td>No info</td>\n",
       "    </tr>\n",
       "    <tr>\n",
       "      <th>2</th>\n",
       "      <td>Jet Airways</td>\n",
       "      <td>21/05/2019</td>\n",
       "      <td>Delhi</td>\n",
       "      <td>Cochin</td>\n",
       "      <td>DEL → BOM → COK</td>\n",
       "      <td>19:15</td>\n",
       "      <td>19:00 22 May</td>\n",
       "      <td>23h 45m</td>\n",
       "      <td>1 stop</td>\n",
       "      <td>In-flight meal not included</td>\n",
       "    </tr>\n",
       "    <tr>\n",
       "      <th>3</th>\n",
       "      <td>Multiple carriers</td>\n",
       "      <td>21/05/2019</td>\n",
       "      <td>Delhi</td>\n",
       "      <td>Cochin</td>\n",
       "      <td>DEL → BOM → COK</td>\n",
       "      <td>08:00</td>\n",
       "      <td>21:00</td>\n",
       "      <td>13h</td>\n",
       "      <td>1 stop</td>\n",
       "      <td>No info</td>\n",
       "    </tr>\n",
       "    <tr>\n",
       "      <th>4</th>\n",
       "      <td>Air Asia</td>\n",
       "      <td>24/06/2019</td>\n",
       "      <td>Banglore</td>\n",
       "      <td>Delhi</td>\n",
       "      <td>BLR → DEL</td>\n",
       "      <td>23:55</td>\n",
       "      <td>02:45 25 Jun</td>\n",
       "      <td>2h 50m</td>\n",
       "      <td>non-stop</td>\n",
       "      <td>No info</td>\n",
       "    </tr>\n",
       "  </tbody>\n",
       "</table>\n",
       "</div>"
      ],
      "text/plain": [
       "             Airline Date_of_Journey  ... Total_Stops              Additional_Info\n",
       "0        Jet Airways       6/06/2019  ...      1 stop                      No info\n",
       "1             IndiGo      12/05/2019  ...      1 stop                      No info\n",
       "2        Jet Airways      21/05/2019  ...      1 stop  In-flight meal not included\n",
       "3  Multiple carriers      21/05/2019  ...      1 stop                      No info\n",
       "4           Air Asia      24/06/2019  ...    non-stop                      No info\n",
       "\n",
       "[5 rows x 10 columns]"
      ]
     },
     "execution_count": 49,
     "metadata": {
      "tags": []
     },
     "output_type": "execute_result"
    }
   ],
   "source": [
    "test_file.head()"
   ]
  },
  {
   "cell_type": "code",
   "execution_count": 50,
   "metadata": {
    "colab": {
     "base_uri": "https://localhost:8080/",
     "height": 276
    },
    "colab_type": "code",
    "id": "J2IUBn5QCkJR",
    "outputId": "efca5608-7688-499b-d72f-596190a41f3f"
   },
   "outputs": [
    {
     "name": "stdout",
     "output_type": "stream",
     "text": [
      "<class 'pandas.core.frame.DataFrame'>\n",
      "RangeIndex: 2671 entries, 0 to 2670\n",
      "Data columns (total 10 columns):\n",
      "Airline            2671 non-null object\n",
      "Date_of_Journey    2671 non-null object\n",
      "Source             2671 non-null object\n",
      "Destination        2671 non-null object\n",
      "Route              2671 non-null object\n",
      "Dep_Time           2671 non-null object\n",
      "Arrival_Time       2671 non-null object\n",
      "Duration           2671 non-null object\n",
      "Total_Stops        2671 non-null object\n",
      "Additional_Info    2671 non-null object\n",
      "dtypes: object(10)\n",
      "memory usage: 208.8+ KB\n"
     ]
    }
   ],
   "source": [
    "test_file.info()"
   ]
  },
  {
   "cell_type": "markdown",
   "metadata": {
    "colab_type": "text",
    "id": "rdgKzB57CkJT"
   },
   "source": [
    "**Converting the dataframe in to our "
   ]
  },
  {
   "cell_type": "code",
   "execution_count": 0,
   "metadata": {
    "colab": {},
    "colab_type": "code",
    "id": "OTvhN6WkCkJU"
   },
   "outputs": [],
   "source": [
    "test_file['Date_of_Journey']=pd.to_datetime(test_file['Date_of_Journey'])\n",
    "test_file['Dep_Time']=pd.to_datetime(test_file['Dep_Time'],format='%H:%M').dt.time\n",
    "test_file['Duration']=test_file['Duration'].str.replace('h','*60').str.replace(' ','+').str.replace('m','*1').apply(eval)\n",
    "test_file['Duration']=pd.to_numeric(test_file['Duration'])\n",
    "test_file['Dep_Time']=test_file['Dep_Time'].apply(lambda x:x.hour)\n",
    "test_file['Dep_Time']=pd.to_numeric(test_file['Dep_Time'])\n",
    "test_file[\"month\"] = test_file['Date_of_Journey'].map(lambda x: x.month_name())\n",
    "test_file['weekday']=test_file[['Date_of_Journey']].apply(lambda x:x.dt.day_name())\n",
    "test_file['Additional_Info']=test_file['Additional_Info'].str.replace('No info','No Info')\n",
    "test_file.drop(['Date_of_Journey','Route','Arrival_Time'],axis=1,inplace=True)\n",
    "for i in var_mod:\n",
    "    test_file[i]=le.fit_transform(test_file[i])"
   ]
  },
  {
   "cell_type": "code",
   "execution_count": 0,
   "metadata": {
    "colab": {},
    "colab_type": "code",
    "id": "wV4cU8cZCkJV"
   },
   "outputs": [],
   "source": [
    "test_price_predictions=rfr.predict(test_file)"
   ]
  },
  {
   "cell_type": "code",
   "execution_count": 53,
   "metadata": {
    "colab": {
     "base_uri": "https://localhost:8080/",
     "height": 321
    },
    "colab_type": "code",
    "id": "lyHIzi84CkJX",
    "outputId": "4476286a-e39e-44ae-f639-4e16709c0d5b"
   },
   "outputs": [
    {
     "data": {
      "text/plain": [
       "(array([    0.,  5000., 10000., 15000., 20000., 25000., 30000., 35000.,\n",
       "        40000.]), <a list of 9 Text xticklabel objects>)"
      ]
     },
     "execution_count": 53,
     "metadata": {
      "tags": []
     },
     "output_type": "execute_result"
    },
    {
     "data": {
      "image/png": "[encoded data removed]",
      "text/plain": [
       "<Figure size 432x288 with 1 Axes>"
      ]
     },
     "metadata": {
      "tags": []
     },
     "output_type": "display_data"
    }
   ],
   "source": [
    "plot=plt.figure()\n",
    "sns.distplot(test_price_predictions,bins=40)\n",
    "plt.xticks(rotation=90)"
   ]
  },
  {
   "cell_type": "markdown",
   "metadata": {
    "colab_type": "text",
    "id": "cFVqNM3QCkJZ"
   },
   "source": [
    "# Conclusion"
   ]
  },
  {
   "cell_type": "markdown",
   "metadata": {
    "colab_type": "text",
    "id": "qMtzeCtjCkJZ"
   },
   "source": [
    "From the Analysis of the above data set we have predicted the price of a flight in particular to the given features with a accuracy of 73 percent as shown above."
   ]
  },
  {
   "cell_type": "markdown",
   "metadata": {
    "colab_type": "text",
    "id": "HEXGV03sDThk"
   },
   "source": [
    "Applying a Deep Learning model\n"
   ]
  },
  {
   "cell_type": "code",
   "execution_count": 0,
   "metadata": {
    "colab": {},
    "colab_type": "code",
    "id": "8rwLzzbdDSg3"
   },
   "outputs": [],
   "source": [
    "#Importing required Libraries\n",
    "import keras\n",
    "from keras.models import Sequential\n",
    "from keras.layers import Dense, Dropout\n",
    "from keras import metrics"
   ]
  },
  {
   "cell_type": "code",
   "execution_count": 56,
   "metadata": {
    "colab": {
     "base_uri": "https://localhost:8080/",
     "height": 34
    },
    "colab_type": "code",
    "id": "Bclc9ZMbD6Ty",
    "outputId": "a169ef1b-473c-43a5-b8ea-eacf8f884f71"
   },
   "outputs": [
    {
     "data": {
      "text/plain": [
       "(8545, 9)"
      ]
     },
     "execution_count": 56,
     "metadata": {
      "tags": []
     },
     "output_type": "execute_result"
    }
   ],
   "source": [
    "x_train.shape"
   ]
  },
  {
   "cell_type": "code",
   "execution_count": 57,
   "metadata": {
    "colab": {
     "base_uri": "https://localhost:8080/",
     "height": 34
    },
    "colab_type": "code",
    "id": "bG7bjeOJERDq",
    "outputId": "ab494eaa-9c0e-4ddb-c159-3eff5d0a6e89"
   },
   "outputs": [
    {
     "data": {
      "text/plain": [
       "(8545,)"
      ]
     },
     "execution_count": 57,
     "metadata": {
      "tags": []
     },
     "output_type": "execute_result"
    }
   ],
   "source": [
    "y_train.shape"
   ]
  },
  {
   "cell_type": "code",
   "execution_count": 58,
   "metadata": {
    "colab": {
     "base_uri": "https://localhost:8080/",
     "height": 34
    },
    "colab_type": "code",
    "id": "X6EaSfr2F10s",
    "outputId": "6aac3fdc-8ba8-45e7-99b1-3fa66115e7bf"
   },
   "outputs": [
    {
     "data": {
      "text/plain": [
       "(2137, 9)"
      ]
     },
     "execution_count": 58,
     "metadata": {
      "tags": []
     },
     "output_type": "execute_result"
    }
   ],
   "source": [
    "x_test.shape"
   ]
  },
  {
   "cell_type": "code",
   "execution_count": 88,
   "metadata": {
    "colab": {
     "base_uri": "https://localhost:8080/",
     "height": 432
    },
    "colab_type": "code",
    "id": "QjEiU7ShDedP",
    "outputId": "dc858394-6a32-404c-9146-bf57b0409e35"
   },
   "outputs": [
    {
     "name": "stdout",
     "output_type": "stream",
     "text": [
      "Model: \"sequential_4\"\n",
      "_________________________________________________________________\n",
      "Layer (type)                 Output Shape              Param #   \n",
      "=================================================================\n",
      "dense_16 (Dense)             (None, 256)               2560      \n",
      "_________________________________________________________________\n",
      "dense_17 (Dense)             (None, 256)               65792     \n",
      "_________________________________________________________________\n",
      "dropout_10 (Dropout)         (None, 256)               0         \n",
      "_________________________________________________________________\n",
      "dense_18 (Dense)             (None, 512)               131584    \n",
      "_________________________________________________________________\n",
      "dropout_11 (Dropout)         (None, 512)               0         \n",
      "_________________________________________________________________\n",
      "dense_19 (Dense)             (None, 256)               131328    \n",
      "_________________________________________________________________\n",
      "dropout_12 (Dropout)         (None, 256)               0         \n",
      "_________________________________________________________________\n",
      "dense_20 (Dense)             (None, 1)                 257       \n",
      "=================================================================\n",
      "Total params: 331,521\n",
      "Trainable params: 331,521\n",
      "Non-trainable params: 0\n",
      "_________________________________________________________________\n"
     ]
    }
   ],
   "source": [
    "flight_model = Sequential()\n",
    "\n",
    "# The Input Layer :\n",
    "flight_model.add(Dense(256, kernel_initializer='normal',input_dim = x_train.shape[1], activation='relu'))\n",
    "\n",
    "# The Hidden Layers :\n",
    "flight_model.add(Dense(256, kernel_initializer='normal',activation='relu'))\n",
    "flight_model.add(Dropout(0.3))\n",
    "flight_model.add(Dense(512, kernel_initializer='normal',activation='relu'))\n",
    "flight_model.add(Dropout(0.5))\n",
    "flight_model.add(Dense(256, kernel_initializer='normal',activation='relu'))\n",
    "flight_model.add(Dropout(0.3))\n",
    "\n",
    "# The Output Layer :\n",
    "flight_model.add(Dense(1, kernel_initializer='normal',activation='linear'))\n",
    "\n",
    "# Compile the network :\n",
    "flight_model.compile(loss='mean_absolute_error', optimizer='adam', metrics=['mean_absolute_percentage_error'])\n",
    "flight_model.summary()"
   ]
  },
  {
   "cell_type": "code",
   "execution_count": 89,
   "metadata": {
    "colab": {
     "base_uri": "https://localhost:8080/",
     "height": 1000
    },
    "colab_type": "code",
    "id": "XqQgpKfUGF2t",
    "outputId": "da31db3a-4877-49c3-ead8-923084fb3e79"
   },
   "outputs": [
    {
     "name": "stdout",
     "output_type": "stream",
     "text": [
      "Train on 6836 samples, validate on 1709 samples\n",
      "Epoch 1/40\n",
      "6836/6836 [==============================] - 1s 129us/step - loss: 6486.3169 - mean_absolute_percentage_error: 75.0659 - val_loss: 3627.1863 - val_mean_absolute_percentage_error: 45.0642\n",
      "Epoch 2/40\n",
      "6836/6836 [==============================] - 0s 52us/step - loss: 3476.0998 - mean_absolute_percentage_error: 47.6125 - val_loss: 2909.4439 - val_mean_absolute_percentage_error: 38.7046\n",
      "Epoch 3/40\n",
      "6836/6836 [==============================] - 0s 59us/step - loss: 2831.8056 - mean_absolute_percentage_error: 35.0151 - val_loss: 2473.6983 - val_mean_absolute_percentage_error: 29.3441\n",
      "Epoch 4/40\n",
      "6836/6836 [==============================] - 0s 58us/step - loss: 2587.5803 - mean_absolute_percentage_error: 30.9728 - val_loss: 2415.3754 - val_mean_absolute_percentage_error: 28.2400\n",
      "Epoch 5/40\n",
      "6836/6836 [==============================] - 0s 55us/step - loss: 2605.8121 - mean_absolute_percentage_error: 30.3285 - val_loss: 2423.2768 - val_mean_absolute_percentage_error: 26.4173\n",
      "Epoch 6/40\n",
      "6836/6836 [==============================] - 0s 54us/step - loss: 2555.5953 - mean_absolute_percentage_error: 29.3915 - val_loss: 2386.5545 - val_mean_absolute_percentage_error: 27.3225\n",
      "Epoch 7/40\n",
      "6836/6836 [==============================] - 0s 55us/step - loss: 2540.2248 - mean_absolute_percentage_error: 29.1269 - val_loss: 2383.3182 - val_mean_absolute_percentage_error: 26.9112\n",
      "Epoch 8/40\n",
      "6836/6836 [==============================] - 0s 59us/step - loss: 2528.6734 - mean_absolute_percentage_error: 28.8158 - val_loss: 2370.8982 - val_mean_absolute_percentage_error: 26.3760\n",
      "Epoch 9/40\n",
      "6836/6836 [==============================] - 0s 50us/step - loss: 2533.0949 - mean_absolute_percentage_error: 28.6792 - val_loss: 2396.6167 - val_mean_absolute_percentage_error: 28.7969\n",
      "Epoch 10/40\n",
      "6836/6836 [==============================] - 0s 53us/step - loss: 2520.7294 - mean_absolute_percentage_error: 28.3007 - val_loss: 2362.1355 - val_mean_absolute_percentage_error: 25.5874\n",
      "Epoch 11/40\n",
      "6836/6836 [==============================] - 0s 62us/step - loss: 2501.1579 - mean_absolute_percentage_error: 28.1640 - val_loss: 2347.9868 - val_mean_absolute_percentage_error: 25.7863\n",
      "Epoch 12/40\n",
      "6836/6836 [==============================] - 0s 55us/step - loss: 2495.3265 - mean_absolute_percentage_error: 28.0635 - val_loss: 2356.9327 - val_mean_absolute_percentage_error: 27.5420\n",
      "Epoch 13/40\n",
      "6836/6836 [==============================] - 0s 52us/step - loss: 2502.2324 - mean_absolute_percentage_error: 28.4451 - val_loss: 2331.6959 - val_mean_absolute_percentage_error: 25.0674\n",
      "Epoch 14/40\n",
      "6836/6836 [==============================] - 0s 53us/step - loss: 2445.0411 - mean_absolute_percentage_error: 27.1832 - val_loss: 2361.9941 - val_mean_absolute_percentage_error: 24.6406\n",
      "Epoch 15/40\n",
      "6836/6836 [==============================] - 0s 52us/step - loss: 2461.6856 - mean_absolute_percentage_error: 27.4126 - val_loss: 2346.1478 - val_mean_absolute_percentage_error: 27.7207\n",
      "Epoch 16/40\n",
      "6836/6836 [==============================] - 0s 52us/step - loss: 2422.9775 - mean_absolute_percentage_error: 26.7948 - val_loss: 2324.5867 - val_mean_absolute_percentage_error: 27.0569\n",
      "Epoch 17/40\n",
      "6836/6836 [==============================] - 0s 54us/step - loss: 2428.5172 - mean_absolute_percentage_error: 26.9528 - val_loss: 2291.3611 - val_mean_absolute_percentage_error: 24.4696\n",
      "Epoch 18/40\n",
      "6836/6836 [==============================] - 0s 53us/step - loss: 2429.4427 - mean_absolute_percentage_error: 26.8475 - val_loss: 2290.3374 - val_mean_absolute_percentage_error: 26.3672\n",
      "Epoch 19/40\n",
      "6836/6836 [==============================] - 0s 61us/step - loss: 2409.6386 - mean_absolute_percentage_error: 26.4824 - val_loss: 2266.0929 - val_mean_absolute_percentage_error: 24.6682\n",
      "Epoch 20/40\n",
      "6836/6836 [==============================] - 0s 57us/step - loss: 2413.3529 - mean_absolute_percentage_error: 26.6693 - val_loss: 2295.7543 - val_mean_absolute_percentage_error: 23.9545\n",
      "Epoch 21/40\n",
      "6836/6836 [==============================] - 0s 58us/step - loss: 2394.9113 - mean_absolute_percentage_error: 26.4602 - val_loss: 2247.1229 - val_mean_absolute_percentage_error: 24.4863\n",
      "Epoch 22/40\n",
      "6836/6836 [==============================] - 0s 56us/step - loss: 2405.1153 - mean_absolute_percentage_error: 26.6465 - val_loss: 2233.0995 - val_mean_absolute_percentage_error: 24.4335\n",
      "Epoch 23/40\n",
      "6836/6836 [==============================] - 0s 55us/step - loss: 2369.6445 - mean_absolute_percentage_error: 26.0729 - val_loss: 2244.3574 - val_mean_absolute_percentage_error: 23.5841\n",
      "Epoch 24/40\n",
      "6836/6836 [==============================] - 0s 60us/step - loss: 2362.7033 - mean_absolute_percentage_error: 26.1453 - val_loss: 2288.0756 - val_mean_absolute_percentage_error: 23.3796\n",
      "Epoch 25/40\n",
      "6836/6836 [==============================] - 0s 58us/step - loss: 2343.4842 - mean_absolute_percentage_error: 25.7485 - val_loss: 2209.2619 - val_mean_absolute_percentage_error: 23.8693\n",
      "Epoch 26/40\n",
      "6836/6836 [==============================] - 0s 56us/step - loss: 2346.0088 - mean_absolute_percentage_error: 25.8864 - val_loss: 2188.2612 - val_mean_absolute_percentage_error: 23.9258\n",
      "Epoch 27/40\n",
      "6836/6836 [==============================] - 0s 61us/step - loss: 2302.7006 - mean_absolute_percentage_error: 25.4129 - val_loss: 2180.0708 - val_mean_absolute_percentage_error: 23.1790\n",
      "Epoch 28/40\n",
      "6836/6836 [==============================] - 0s 58us/step - loss: 2320.3938 - mean_absolute_percentage_error: 25.5044 - val_loss: 2190.9695 - val_mean_absolute_percentage_error: 25.5510\n",
      "Epoch 29/40\n",
      "6836/6836 [==============================] - 0s 51us/step - loss: 2286.0098 - mean_absolute_percentage_error: 25.3454 - val_loss: 2260.8234 - val_mean_absolute_percentage_error: 22.5281\n",
      "Epoch 30/40\n",
      "6836/6836 [==============================] - 0s 49us/step - loss: 2279.7230 - mean_absolute_percentage_error: 25.2171 - val_loss: 2148.8391 - val_mean_absolute_percentage_error: 24.9327\n",
      "Epoch 31/40\n",
      "6836/6836 [==============================] - 0s 53us/step - loss: 2262.0936 - mean_absolute_percentage_error: 24.9961 - val_loss: 2235.3264 - val_mean_absolute_percentage_error: 22.2462\n",
      "Epoch 32/40\n",
      "6836/6836 [==============================] - 0s 59us/step - loss: 2256.0641 - mean_absolute_percentage_error: 24.8442 - val_loss: 2099.6217 - val_mean_absolute_percentage_error: 22.2818\n",
      "Epoch 33/40\n",
      "6836/6836 [==============================] - 0s 54us/step - loss: 2206.5170 - mean_absolute_percentage_error: 24.2062 - val_loss: 2130.7174 - val_mean_absolute_percentage_error: 21.7957\n",
      "Epoch 34/40\n",
      "6836/6836 [==============================] - 0s 57us/step - loss: 2220.1048 - mean_absolute_percentage_error: 24.5534 - val_loss: 2076.7932 - val_mean_absolute_percentage_error: 23.7668\n",
      "Epoch 35/40\n",
      "6836/6836 [==============================] - 0s 62us/step - loss: 2195.2977 - mean_absolute_percentage_error: 24.1409 - val_loss: 2062.2087 - val_mean_absolute_percentage_error: 22.7716\n",
      "Epoch 36/40\n",
      "6836/6836 [==============================] - 0s 53us/step - loss: 2164.5658 - mean_absolute_percentage_error: 23.9805 - val_loss: 2032.9523 - val_mean_absolute_percentage_error: 22.0897\n",
      "Epoch 37/40\n",
      "6836/6836 [==============================] - 0s 52us/step - loss: 2166.9133 - mean_absolute_percentage_error: 23.8395 - val_loss: 2015.1309 - val_mean_absolute_percentage_error: 22.9872\n",
      "Epoch 38/40\n",
      "6836/6836 [==============================] - 0s 51us/step - loss: 2155.1310 - mean_absolute_percentage_error: 23.8370 - val_loss: 1992.8879 - val_mean_absolute_percentage_error: 21.7708\n",
      "Epoch 39/40\n",
      "6836/6836 [==============================] - 0s 50us/step - loss: 2146.4771 - mean_absolute_percentage_error: 23.8643 - val_loss: 2069.3098 - val_mean_absolute_percentage_error: 21.3687\n",
      "Epoch 40/40\n",
      "6836/6836 [==============================] - 0s 52us/step - loss: 2156.2772 - mean_absolute_percentage_error: 23.9365 - val_loss: 1983.7529 - val_mean_absolute_percentage_error: 22.9850\n"
     ]
    }
   ],
   "source": [
    "m=flight_model.fit(x_train, y_train, epochs=40, batch_size=128, validation_split = 0.2)"
   ]
  },
  {
   "cell_type": "code",
   "execution_count": 90,
   "metadata": {
    "colab": {
     "base_uri": "https://localhost:8080/",
     "height": 282
    },
    "colab_type": "code",
    "id": "Ow5znMZLGUkx",
    "outputId": "5376aee3-a15e-417d-b348-66980d0f08c1"
   },
   "outputs": [
    {
     "data": {
      "text/plain": [
       "<matplotlib.legend.Legend at 0x7f15941efda0>"
      ]
     },
     "execution_count": 90,
     "metadata": {
      "tags": []
     },
     "output_type": "execute_result"
    },
    {
     "data": {
      "image/png": "[encoded data removed]",
      "text/plain": [
       "<Figure size 432x288 with 1 Axes>"
      ]
     },
     "metadata": {
      "tags": []
     },
     "output_type": "display_data"
    }
   ],
   "source": [
    "plt.plot(m.history['loss'],label='Loss')\n",
    "plt.plot(m.history['val_loss'],label='Val_loss')\n",
    "plt.legend()"
   ]
  },
  {
   "cell_type": "code",
   "execution_count": 92,
   "metadata": {
    "colab": {
     "base_uri": "https://localhost:8080/",
     "height": 34
    },
    "colab_type": "code",
    "id": "7TPgMV-dJJLD",
    "outputId": "7588df63-e13b-43fb-b9c9-a3c75beb760b"
   },
   "outputs": [
    {
     "name": "stdout",
     "output_type": "stream",
     "text": [
      "2137/2137 [==============================] - 0s 54us/step\n"
     ]
    }
   ],
   "source": [
    "score=flight_model.evaluate(x_test,y_test)"
   ]
  },
  {
   "cell_type": "code",
   "execution_count": 93,
   "metadata": {
    "colab": {
     "base_uri": "https://localhost:8080/",
     "height": 34
    },
    "colab_type": "code",
    "id": "F0_3X4n-LL4n",
    "outputId": "d8583605-6063-4490-e529-aa1d6e049e90"
   },
   "outputs": [
    {
     "data": {
      "text/plain": [
       "[2003.6642765943056, 23.193386423292147]"
      ]
     },
     "execution_count": 93,
     "metadata": {
      "tags": []
     },
     "output_type": "execute_result"
    }
   ],
   "source": [
    "score"
   ]
  },
  {
   "cell_type": "markdown",
   "metadata": {
    "colab_type": "text",
    "id": "zd33Th5aLg_7"
   },
   "source": [
    "we have 'test_file' for the input data used to test case for the price prediction  "
   ]
  },
  {
   "cell_type": "code",
   "execution_count": 0,
   "metadata": {
    "colab": {},
    "colab_type": "code",
    "id": "gb5kgZcZLUjr"
   },
   "outputs": [],
   "source": [
    "test_pred=flight_model.predict_on_batch(test_file)"
   ]
  },
  {
   "cell_type": "code",
   "execution_count": 0,
   "metadata": {
    "colab": {},
    "colab_type": "code",
    "id": "5z3RNFBwMBAI"
   },
   "outputs": [],
   "source": []
  }
 ],
 "metadata": {
  "accelerator": "GPU",
  "colab": {
   "collapsed_sections": [
    "1q_UBhOYCkIa"
   ],
   "name": "Flight Ticket Price Prediction-Deep-model.ipynb",
   "provenance": []
  },
  "kernelspec": {
   "display_name": "Python 3",
   "language": "python",
   "name": "python3"
  },
  "language_info": {
   "codemirror_mode": {
    "name": "ipython",
    "version": 3
   },
   "file_extension": ".py",
   "mimetype": "text/x-python",
   "name": "python",
   "nbconvert_exporter": "python",
   "pygments_lexer": "ipython3",
   "version": "3.7.3"
  }
 },
 "nbformat": 4,
 "nbformat_minor": 1
}

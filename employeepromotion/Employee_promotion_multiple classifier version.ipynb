{
 "cells": [
  {
   "cell_type": "markdown",
   "metadata": {},
   "source": [
    "# Business Problem\n"
   ]
  },
  {
   "cell_type": "markdown",
   "metadata": {},
   "source": [
    "Your client is a large MNC and they have 9 broad verticals across the organisation. One of the problem your client is facing is around identifying the right people for promotion (only for manager position and below) and prepare them in time. \n",
    "Right now they are following this process:\n",
    "1.\tThey first identify a set of employees based on recommendations/ past performance\n",
    "2.\tSelected employees go through the separate training and evaluation program for each vertical. These programs are based on the required skill of each vertical\n",
    "3.\tAt the end of the program, based on various factors such as training performance, KPI completion (only employees with KPIs completed greater than 60% are considered) etc., employee gets promotion\n"
   ]
  },
  {
   "cell_type": "markdown",
   "metadata": {},
   "source": [
    "# Goal\n",
    "\n",
    "Build a model which can predict a future promotee based on the given data accurately."
   ]
  },
  {
   "cell_type": "code",
   "execution_count": 1,
   "metadata": {},
   "outputs": [],
   "source": [
    "import numpy as np\n",
    "import pandas as pd\n",
    "import matplotlib.pyplot as plt \n",
    "import seaborn as sns\n",
    "import scipy.stats as st\n",
    "sns.set_style('darkgrid')"
   ]
  },
  {
   "cell_type": "code",
   "execution_count": 2,
   "metadata": {},
   "outputs": [],
   "source": [
    "Employee_dataset=pd.read_csv('data.xls')"
   ]
  },
  {
   "cell_type": "markdown",
   "metadata": {},
   "source": [
    "# Exploratory Data Analysis"
   ]
  },
  {
   "cell_type": "code",
   "execution_count": 3,
   "metadata": {},
   "outputs": [
    {
     "name": "stdout",
     "output_type": "stream",
     "text": [
      "<class 'pandas.core.frame.DataFrame'>\n",
      "RangeIndex: 54808 entries, 0 to 54807\n",
      "Data columns (total 14 columns):\n",
      "employee_id             54808 non-null int64\n",
      "department              54808 non-null object\n",
      "region                  54808 non-null object\n",
      "education               52399 non-null object\n",
      "gender                  54808 non-null object\n",
      "recruitment_channel     54808 non-null object\n",
      "no_of_trainings         54808 non-null int64\n",
      "age                     54808 non-null int64\n",
      "previous_year_rating    50684 non-null float64\n",
      "length_of_service       54808 non-null int64\n",
      "KPIs_met >80%           54808 non-null int64\n",
      "awards_won?             54808 non-null int64\n",
      "avg_training_score      54808 non-null int64\n",
      "is_promoted             54808 non-null int64\n",
      "dtypes: float64(1), int64(8), object(5)\n",
      "memory usage: 5.9+ MB\n"
     ]
    }
   ],
   "source": [
    "Employee_dataset.info()"
   ]
  },
  {
   "cell_type": "markdown",
   "metadata": {},
   "source": [
    "As you can see above there are two columns which contain null values so we need to extract those values in to another dataset as to get and use them as a test data."
   ]
  },
  {
   "cell_type": "code",
   "execution_count": 4,
   "metadata": {},
   "outputs": [
    {
     "data": {
      "text/html": [
       "<div>\n",
       "<style scoped>\n",
       "    .dataframe tbody tr th:only-of-type {\n",
       "        vertical-align: middle;\n",
       "    }\n",
       "\n",
       "    .dataframe tbody tr th {\n",
       "        vertical-align: top;\n",
       "    }\n",
       "\n",
       "    .dataframe thead th {\n",
       "        text-align: right;\n",
       "    }\n",
       "</style>\n",
       "<table border=\"1\" class=\"dataframe\">\n",
       "  <thead>\n",
       "    <tr style=\"text-align: right;\">\n",
       "      <th></th>\n",
       "      <th>employee_id</th>\n",
       "      <th>department</th>\n",
       "      <th>region</th>\n",
       "      <th>education</th>\n",
       "      <th>gender</th>\n",
       "      <th>recruitment_channel</th>\n",
       "      <th>no_of_trainings</th>\n",
       "      <th>age</th>\n",
       "      <th>previous_year_rating</th>\n",
       "      <th>length_of_service</th>\n",
       "      <th>KPIs_met &gt;80%</th>\n",
       "      <th>awards_won?</th>\n",
       "      <th>avg_training_score</th>\n",
       "      <th>is_promoted</th>\n",
       "    </tr>\n",
       "  </thead>\n",
       "  <tbody>\n",
       "    <tr>\n",
       "      <th>0</th>\n",
       "      <td>65438</td>\n",
       "      <td>Sales &amp; Marketing</td>\n",
       "      <td>region_7</td>\n",
       "      <td>Master's &amp; above</td>\n",
       "      <td>f</td>\n",
       "      <td>sourcing</td>\n",
       "      <td>1</td>\n",
       "      <td>35</td>\n",
       "      <td>5.0</td>\n",
       "      <td>8</td>\n",
       "      <td>1</td>\n",
       "      <td>0</td>\n",
       "      <td>49</td>\n",
       "      <td>0</td>\n",
       "    </tr>\n",
       "    <tr>\n",
       "      <th>1</th>\n",
       "      <td>65141</td>\n",
       "      <td>Operations</td>\n",
       "      <td>region_22</td>\n",
       "      <td>Bachelor's</td>\n",
       "      <td>m</td>\n",
       "      <td>other</td>\n",
       "      <td>1</td>\n",
       "      <td>30</td>\n",
       "      <td>5.0</td>\n",
       "      <td>4</td>\n",
       "      <td>0</td>\n",
       "      <td>0</td>\n",
       "      <td>60</td>\n",
       "      <td>0</td>\n",
       "    </tr>\n",
       "    <tr>\n",
       "      <th>2</th>\n",
       "      <td>7513</td>\n",
       "      <td>Sales &amp; Marketing</td>\n",
       "      <td>region_19</td>\n",
       "      <td>Bachelor's</td>\n",
       "      <td>m</td>\n",
       "      <td>sourcing</td>\n",
       "      <td>1</td>\n",
       "      <td>34</td>\n",
       "      <td>3.0</td>\n",
       "      <td>7</td>\n",
       "      <td>0</td>\n",
       "      <td>0</td>\n",
       "      <td>50</td>\n",
       "      <td>0</td>\n",
       "    </tr>\n",
       "    <tr>\n",
       "      <th>3</th>\n",
       "      <td>2542</td>\n",
       "      <td>Sales &amp; Marketing</td>\n",
       "      <td>region_23</td>\n",
       "      <td>Bachelor's</td>\n",
       "      <td>m</td>\n",
       "      <td>other</td>\n",
       "      <td>2</td>\n",
       "      <td>39</td>\n",
       "      <td>1.0</td>\n",
       "      <td>10</td>\n",
       "      <td>0</td>\n",
       "      <td>0</td>\n",
       "      <td>50</td>\n",
       "      <td>0</td>\n",
       "    </tr>\n",
       "    <tr>\n",
       "      <th>4</th>\n",
       "      <td>48945</td>\n",
       "      <td>Technology</td>\n",
       "      <td>region_26</td>\n",
       "      <td>Bachelor's</td>\n",
       "      <td>m</td>\n",
       "      <td>other</td>\n",
       "      <td>1</td>\n",
       "      <td>45</td>\n",
       "      <td>3.0</td>\n",
       "      <td>2</td>\n",
       "      <td>0</td>\n",
       "      <td>0</td>\n",
       "      <td>73</td>\n",
       "      <td>0</td>\n",
       "    </tr>\n",
       "  </tbody>\n",
       "</table>\n",
       "</div>"
      ],
      "text/plain": [
       "   employee_id         department     region         education gender  \\\n",
       "0        65438  Sales & Marketing   region_7  Master's & above      f   \n",
       "1        65141         Operations  region_22        Bachelor's      m   \n",
       "2         7513  Sales & Marketing  region_19        Bachelor's      m   \n",
       "3         2542  Sales & Marketing  region_23        Bachelor's      m   \n",
       "4        48945         Technology  region_26        Bachelor's      m   \n",
       "\n",
       "  recruitment_channel  no_of_trainings  age  previous_year_rating  \\\n",
       "0            sourcing                1   35                   5.0   \n",
       "1               other                1   30                   5.0   \n",
       "2            sourcing                1   34                   3.0   \n",
       "3               other                2   39                   1.0   \n",
       "4               other                1   45                   3.0   \n",
       "\n",
       "   length_of_service  KPIs_met >80%  awards_won?  avg_training_score  \\\n",
       "0                  8              1            0                  49   \n",
       "1                  4              0            0                  60   \n",
       "2                  7              0            0                  50   \n",
       "3                 10              0            0                  50   \n",
       "4                  2              0            0                  73   \n",
       "\n",
       "   is_promoted  \n",
       "0            0  \n",
       "1            0  \n",
       "2            0  \n",
       "3            0  \n",
       "4            0  "
      ]
     },
     "execution_count": 4,
     "metadata": {},
     "output_type": "execute_result"
    }
   ],
   "source": [
    "Employee_dataset.head()"
   ]
  },
  {
   "cell_type": "code",
   "execution_count": 5,
   "metadata": {},
   "outputs": [
    {
     "data": {
      "text/html": [
       "<div>\n",
       "<style scoped>\n",
       "    .dataframe tbody tr th:only-of-type {\n",
       "        vertical-align: middle;\n",
       "    }\n",
       "\n",
       "    .dataframe tbody tr th {\n",
       "        vertical-align: top;\n",
       "    }\n",
       "\n",
       "    .dataframe thead th {\n",
       "        text-align: right;\n",
       "    }\n",
       "</style>\n",
       "<table border=\"1\" class=\"dataframe\">\n",
       "  <thead>\n",
       "    <tr style=\"text-align: right;\">\n",
       "      <th></th>\n",
       "      <th>employee_id</th>\n",
       "      <th>no_of_trainings</th>\n",
       "      <th>age</th>\n",
       "      <th>previous_year_rating</th>\n",
       "      <th>length_of_service</th>\n",
       "      <th>KPIs_met &gt;80%</th>\n",
       "      <th>awards_won?</th>\n",
       "      <th>avg_training_score</th>\n",
       "      <th>is_promoted</th>\n",
       "    </tr>\n",
       "  </thead>\n",
       "  <tbody>\n",
       "    <tr>\n",
       "      <th>employee_id</th>\n",
       "      <td>1.000000</td>\n",
       "      <td>-0.005121</td>\n",
       "      <td>0.000437</td>\n",
       "      <td>0.004533</td>\n",
       "      <td>0.001274</td>\n",
       "      <td>-0.002501</td>\n",
       "      <td>0.008420</td>\n",
       "      <td>-0.000586</td>\n",
       "      <td>0.001206</td>\n",
       "    </tr>\n",
       "    <tr>\n",
       "      <th>no_of_trainings</th>\n",
       "      <td>-0.005121</td>\n",
       "      <td>1.000000</td>\n",
       "      <td>-0.081278</td>\n",
       "      <td>-0.063126</td>\n",
       "      <td>-0.057275</td>\n",
       "      <td>-0.045576</td>\n",
       "      <td>-0.007628</td>\n",
       "      <td>0.042517</td>\n",
       "      <td>-0.024896</td>\n",
       "    </tr>\n",
       "    <tr>\n",
       "      <th>age</th>\n",
       "      <td>0.000437</td>\n",
       "      <td>-0.081278</td>\n",
       "      <td>1.000000</td>\n",
       "      <td>0.006008</td>\n",
       "      <td>0.657111</td>\n",
       "      <td>-0.025592</td>\n",
       "      <td>-0.008169</td>\n",
       "      <td>-0.048380</td>\n",
       "      <td>-0.017166</td>\n",
       "    </tr>\n",
       "    <tr>\n",
       "      <th>previous_year_rating</th>\n",
       "      <td>0.004533</td>\n",
       "      <td>-0.063126</td>\n",
       "      <td>0.006008</td>\n",
       "      <td>1.000000</td>\n",
       "      <td>0.000253</td>\n",
       "      <td>0.351578</td>\n",
       "      <td>0.027738</td>\n",
       "      <td>0.075139</td>\n",
       "      <td>0.159320</td>\n",
       "    </tr>\n",
       "    <tr>\n",
       "      <th>length_of_service</th>\n",
       "      <td>0.001274</td>\n",
       "      <td>-0.057275</td>\n",
       "      <td>0.657111</td>\n",
       "      <td>0.000253</td>\n",
       "      <td>1.000000</td>\n",
       "      <td>-0.077693</td>\n",
       "      <td>-0.039927</td>\n",
       "      <td>-0.038122</td>\n",
       "      <td>-0.010670</td>\n",
       "    </tr>\n",
       "    <tr>\n",
       "      <th>KPIs_met &gt;80%</th>\n",
       "      <td>-0.002501</td>\n",
       "      <td>-0.045576</td>\n",
       "      <td>-0.025592</td>\n",
       "      <td>0.351578</td>\n",
       "      <td>-0.077693</td>\n",
       "      <td>1.000000</td>\n",
       "      <td>0.097000</td>\n",
       "      <td>0.078391</td>\n",
       "      <td>0.221582</td>\n",
       "    </tr>\n",
       "    <tr>\n",
       "      <th>awards_won?</th>\n",
       "      <td>0.008420</td>\n",
       "      <td>-0.007628</td>\n",
       "      <td>-0.008169</td>\n",
       "      <td>0.027738</td>\n",
       "      <td>-0.039927</td>\n",
       "      <td>0.097000</td>\n",
       "      <td>1.000000</td>\n",
       "      <td>0.072138</td>\n",
       "      <td>0.195871</td>\n",
       "    </tr>\n",
       "    <tr>\n",
       "      <th>avg_training_score</th>\n",
       "      <td>-0.000586</td>\n",
       "      <td>0.042517</td>\n",
       "      <td>-0.048380</td>\n",
       "      <td>0.075139</td>\n",
       "      <td>-0.038122</td>\n",
       "      <td>0.078391</td>\n",
       "      <td>0.072138</td>\n",
       "      <td>1.000000</td>\n",
       "      <td>0.181147</td>\n",
       "    </tr>\n",
       "    <tr>\n",
       "      <th>is_promoted</th>\n",
       "      <td>0.001206</td>\n",
       "      <td>-0.024896</td>\n",
       "      <td>-0.017166</td>\n",
       "      <td>0.159320</td>\n",
       "      <td>-0.010670</td>\n",
       "      <td>0.221582</td>\n",
       "      <td>0.195871</td>\n",
       "      <td>0.181147</td>\n",
       "      <td>1.000000</td>\n",
       "    </tr>\n",
       "  </tbody>\n",
       "</table>\n",
       "</div>"
      ],
      "text/plain": [
       "                      employee_id  no_of_trainings       age  \\\n",
       "employee_id              1.000000        -0.005121  0.000437   \n",
       "no_of_trainings         -0.005121         1.000000 -0.081278   \n",
       "age                      0.000437        -0.081278  1.000000   \n",
       "previous_year_rating     0.004533        -0.063126  0.006008   \n",
       "length_of_service        0.001274        -0.057275  0.657111   \n",
       "KPIs_met >80%           -0.002501        -0.045576 -0.025592   \n",
       "awards_won?              0.008420        -0.007628 -0.008169   \n",
       "avg_training_score      -0.000586         0.042517 -0.048380   \n",
       "is_promoted              0.001206        -0.024896 -0.017166   \n",
       "\n",
       "                      previous_year_rating  length_of_service  KPIs_met >80%  \\\n",
       "employee_id                       0.004533           0.001274      -0.002501   \n",
       "no_of_trainings                  -0.063126          -0.057275      -0.045576   \n",
       "age                               0.006008           0.657111      -0.025592   \n",
       "previous_year_rating              1.000000           0.000253       0.351578   \n",
       "length_of_service                 0.000253           1.000000      -0.077693   \n",
       "KPIs_met >80%                     0.351578          -0.077693       1.000000   \n",
       "awards_won?                       0.027738          -0.039927       0.097000   \n",
       "avg_training_score                0.075139          -0.038122       0.078391   \n",
       "is_promoted                       0.159320          -0.010670       0.221582   \n",
       "\n",
       "                      awards_won?  avg_training_score  is_promoted  \n",
       "employee_id              0.008420           -0.000586     0.001206  \n",
       "no_of_trainings         -0.007628            0.042517    -0.024896  \n",
       "age                     -0.008169           -0.048380    -0.017166  \n",
       "previous_year_rating     0.027738            0.075139     0.159320  \n",
       "length_of_service       -0.039927           -0.038122    -0.010670  \n",
       "KPIs_met >80%            0.097000            0.078391     0.221582  \n",
       "awards_won?              1.000000            0.072138     0.195871  \n",
       "avg_training_score       0.072138            1.000000     0.181147  \n",
       "is_promoted              0.195871            0.181147     1.000000  "
      ]
     },
     "execution_count": 5,
     "metadata": {},
     "output_type": "execute_result"
    }
   ],
   "source": [
    "Employee_dataset.corr()"
   ]
  },
  {
   "cell_type": "markdown",
   "metadata": {},
   "source": [
    "You can see that one of the null values column \"Previous_year_rating\" is highly dependent on two columns namely \"KPIs_met >80%\" and \"is_promoted\".\n",
    "so we are gonna use those two columns as the basis for predicting the missing values for this column."
   ]
  },
  {
   "cell_type": "markdown",
   "metadata": {},
   "source": [
    "# Data Visualization"
   ]
  },
  {
   "cell_type": "code",
   "execution_count": null,
   "metadata": {},
   "outputs": [],
   "source": [
    "sns.barplot('education','is_promoted',data=Employee_dataset)"
   ]
  },
  {
   "cell_type": "code",
   "execution_count": null,
   "metadata": {},
   "outputs": [],
   "source": [
    "sns.barplot('education','KPIs_met >80%',data=Employee_dataset)"
   ]
  },
  {
   "cell_type": "code",
   "execution_count": null,
   "metadata": {},
   "outputs": [],
   "source": [
    "sns.barplot('education','age',data=Employee_dataset)"
   ]
  },
  {
   "cell_type": "code",
   "execution_count": null,
   "metadata": {},
   "outputs": [],
   "source": [
    "sns.barplot('education','avg_training_score',data=Employee_dataset)"
   ]
  },
  {
   "cell_type": "code",
   "execution_count": null,
   "metadata": {},
   "outputs": [],
   "source": [
    "sns.barplot('education','length_of_service',data=Employee_dataset)"
   ]
  },
  {
   "cell_type": "code",
   "execution_count": null,
   "metadata": {},
   "outputs": [],
   "source": [
    "sns.barplot('education','is_promoted',hue='recruitment_channel',data=Employee_dataset)"
   ]
  },
  {
   "cell_type": "code",
   "execution_count": null,
   "metadata": {},
   "outputs": [],
   "source": [
    "sns.barplot('education','no_of_trainings',data=Employee_dataset)"
   ]
  },
  {
   "cell_type": "code",
   "execution_count": null,
   "metadata": {},
   "outputs": [],
   "source": [
    "sns.barplot('education','previous_year_rating',hue='is_promoted',data=Employee_dataset)"
   ]
  },
  {
   "cell_type": "code",
   "execution_count": null,
   "metadata": {},
   "outputs": [],
   "source": [
    "sns.barplot('department','length_of_service',hue='education',data=Employee_dataset)\n",
    "plt.xticks(rotation=45)"
   ]
  },
  {
   "cell_type": "code",
   "execution_count": null,
   "metadata": {},
   "outputs": [],
   "source": [
    "sns.barplot('gender','length_of_service',hue='education',data=Employee_dataset)\n",
    "plt.xticks(rotation=45)"
   ]
  },
  {
   "cell_type": "code",
   "execution_count": null,
   "metadata": {},
   "outputs": [],
   "source": [
    "sns.barplot('previous_year_rating','length_of_service',data=Employee_dataset)\n"
   ]
  },
  {
   "cell_type": "code",
   "execution_count": null,
   "metadata": {},
   "outputs": [],
   "source": [
    "sns.barplot('previous_year_rating','no_of_trainings',data=Employee_dataset)"
   ]
  },
  {
   "cell_type": "code",
   "execution_count": null,
   "metadata": {},
   "outputs": [],
   "source": [
    "sns.barplot('department','previous_year_rating',data=Employee_dataset)\n",
    "plt.xticks(rotation=45)"
   ]
  },
  {
   "cell_type": "code",
   "execution_count": null,
   "metadata": {},
   "outputs": [],
   "source": [
    "sns.barplot('gender','previous_year_rating',data=Employee_dataset)\n"
   ]
  },
  {
   "cell_type": "code",
   "execution_count": null,
   "metadata": {},
   "outputs": [],
   "source": [
    "sns.barplot('awards_won?','previous_year_rating',data=Employee_dataset)\n"
   ]
  },
  {
   "cell_type": "code",
   "execution_count": null,
   "metadata": {},
   "outputs": [],
   "source": [
    "sns.barplot('recruitment_channel','previous_year_rating',data=Employee_dataset)\n"
   ]
  },
  {
   "cell_type": "markdown",
   "metadata": {},
   "source": [
    "From the above all the graphs we can conclude that the factors that can be used to predict the missing values in the column \"education\" are \"is_promoted\",\"recruitment_channel\",\"length_of_service\". These can be used to find the null values."
   ]
  },
  {
   "cell_type": "markdown",
   "metadata": {},
   "source": [
    "# Extracting misssing values "
   ]
  },
  {
   "cell_type": "code",
   "execution_count": 6,
   "metadata": {},
   "outputs": [],
   "source": [
    "missing_values_dataset=Employee_dataset[Employee_dataset.isnull().any(axis=1)]"
   ]
  },
  {
   "cell_type": "code",
   "execution_count": 7,
   "metadata": {},
   "outputs": [
    {
     "name": "stdout",
     "output_type": "stream",
     "text": [
      "<class 'pandas.core.frame.DataFrame'>\n",
      "Int64Index: 6148 entries, 10 to 54806\n",
      "Data columns (total 14 columns):\n",
      "employee_id             6148 non-null int64\n",
      "department              6148 non-null object\n",
      "region                  6148 non-null object\n",
      "education               3739 non-null object\n",
      "gender                  6148 non-null object\n",
      "recruitment_channel     6148 non-null object\n",
      "no_of_trainings         6148 non-null int64\n",
      "age                     6148 non-null int64\n",
      "previous_year_rating    2024 non-null float64\n",
      "length_of_service       6148 non-null int64\n",
      "KPIs_met >80%           6148 non-null int64\n",
      "awards_won?             6148 non-null int64\n",
      "avg_training_score      6148 non-null int64\n",
      "is_promoted             6148 non-null int64\n",
      "dtypes: float64(1), int64(8), object(5)\n",
      "memory usage: 720.5+ KB\n"
     ]
    }
   ],
   "source": [
    "missing_values_dataset.info()"
   ]
  },
  {
   "cell_type": "code",
   "execution_count": 8,
   "metadata": {},
   "outputs": [
    {
     "data": {
      "text/html": [
       "<div>\n",
       "<style scoped>\n",
       "    .dataframe tbody tr th:only-of-type {\n",
       "        vertical-align: middle;\n",
       "    }\n",
       "\n",
       "    .dataframe tbody tr th {\n",
       "        vertical-align: top;\n",
       "    }\n",
       "\n",
       "    .dataframe thead th {\n",
       "        text-align: right;\n",
       "    }\n",
       "</style>\n",
       "<table border=\"1\" class=\"dataframe\">\n",
       "  <thead>\n",
       "    <tr style=\"text-align: right;\">\n",
       "      <th></th>\n",
       "      <th>employee_id</th>\n",
       "      <th>department</th>\n",
       "      <th>region</th>\n",
       "      <th>education</th>\n",
       "      <th>gender</th>\n",
       "      <th>recruitment_channel</th>\n",
       "      <th>no_of_trainings</th>\n",
       "      <th>age</th>\n",
       "      <th>previous_year_rating</th>\n",
       "      <th>length_of_service</th>\n",
       "      <th>KPIs_met &gt;80%</th>\n",
       "      <th>awards_won?</th>\n",
       "      <th>avg_training_score</th>\n",
       "      <th>is_promoted</th>\n",
       "    </tr>\n",
       "  </thead>\n",
       "  <tbody>\n",
       "    <tr>\n",
       "      <th>10</th>\n",
       "      <td>29934</td>\n",
       "      <td>Technology</td>\n",
       "      <td>region_23</td>\n",
       "      <td>NaN</td>\n",
       "      <td>m</td>\n",
       "      <td>sourcing</td>\n",
       "      <td>1</td>\n",
       "      <td>30</td>\n",
       "      <td>NaN</td>\n",
       "      <td>1</td>\n",
       "      <td>0</td>\n",
       "      <td>0</td>\n",
       "      <td>77</td>\n",
       "      <td>0</td>\n",
       "    </tr>\n",
       "    <tr>\n",
       "      <th>21</th>\n",
       "      <td>33332</td>\n",
       "      <td>Operations</td>\n",
       "      <td>region_15</td>\n",
       "      <td>NaN</td>\n",
       "      <td>m</td>\n",
       "      <td>sourcing</td>\n",
       "      <td>1</td>\n",
       "      <td>41</td>\n",
       "      <td>4.0</td>\n",
       "      <td>11</td>\n",
       "      <td>0</td>\n",
       "      <td>0</td>\n",
       "      <td>57</td>\n",
       "      <td>0</td>\n",
       "    </tr>\n",
       "    <tr>\n",
       "      <th>23</th>\n",
       "      <td>71177</td>\n",
       "      <td>Procurement</td>\n",
       "      <td>region_5</td>\n",
       "      <td>Bachelor's</td>\n",
       "      <td>m</td>\n",
       "      <td>other</td>\n",
       "      <td>1</td>\n",
       "      <td>27</td>\n",
       "      <td>NaN</td>\n",
       "      <td>1</td>\n",
       "      <td>0</td>\n",
       "      <td>0</td>\n",
       "      <td>70</td>\n",
       "      <td>0</td>\n",
       "    </tr>\n",
       "    <tr>\n",
       "      <th>29</th>\n",
       "      <td>74759</td>\n",
       "      <td>Sales &amp; Marketing</td>\n",
       "      <td>region_4</td>\n",
       "      <td>Bachelor's</td>\n",
       "      <td>m</td>\n",
       "      <td>sourcing</td>\n",
       "      <td>1</td>\n",
       "      <td>26</td>\n",
       "      <td>NaN</td>\n",
       "      <td>1</td>\n",
       "      <td>0</td>\n",
       "      <td>0</td>\n",
       "      <td>44</td>\n",
       "      <td>0</td>\n",
       "    </tr>\n",
       "    <tr>\n",
       "      <th>32</th>\n",
       "      <td>35465</td>\n",
       "      <td>Sales &amp; Marketing</td>\n",
       "      <td>region_7</td>\n",
       "      <td>NaN</td>\n",
       "      <td>f</td>\n",
       "      <td>sourcing</td>\n",
       "      <td>1</td>\n",
       "      <td>24</td>\n",
       "      <td>1.0</td>\n",
       "      <td>2</td>\n",
       "      <td>0</td>\n",
       "      <td>0</td>\n",
       "      <td>48</td>\n",
       "      <td>0</td>\n",
       "    </tr>\n",
       "  </tbody>\n",
       "</table>\n",
       "</div>"
      ],
      "text/plain": [
       "    employee_id         department     region   education gender  \\\n",
       "10        29934         Technology  region_23         NaN      m   \n",
       "21        33332         Operations  region_15         NaN      m   \n",
       "23        71177        Procurement   region_5  Bachelor's      m   \n",
       "29        74759  Sales & Marketing   region_4  Bachelor's      m   \n",
       "32        35465  Sales & Marketing   region_7         NaN      f   \n",
       "\n",
       "   recruitment_channel  no_of_trainings  age  previous_year_rating  \\\n",
       "10            sourcing                1   30                   NaN   \n",
       "21            sourcing                1   41                   4.0   \n",
       "23               other                1   27                   NaN   \n",
       "29            sourcing                1   26                   NaN   \n",
       "32            sourcing                1   24                   1.0   \n",
       "\n",
       "    length_of_service  KPIs_met >80%  awards_won?  avg_training_score  \\\n",
       "10                  1              0            0                  77   \n",
       "21                 11              0            0                  57   \n",
       "23                  1              0            0                  70   \n",
       "29                  1              0            0                  44   \n",
       "32                  2              0            0                  48   \n",
       "\n",
       "    is_promoted  \n",
       "10            0  \n",
       "21            0  \n",
       "23            0  \n",
       "29            0  \n",
       "32            0  "
      ]
     },
     "execution_count": 8,
     "metadata": {},
     "output_type": "execute_result"
    }
   ],
   "source": [
    "missing_values_dataset.head()"
   ]
  },
  {
   "cell_type": "markdown",
   "metadata": {},
   "source": [
    "Lets do the predictions for missing values by column by column \n",
    "# For Education column"
   ]
  },
  {
   "cell_type": "code",
   "execution_count": 9,
   "metadata": {},
   "outputs": [],
   "source": [
    "missing_values_edu=Employee_dataset[Employee_dataset['education'].isnull()]"
   ]
  },
  {
   "cell_type": "code",
   "execution_count": 10,
   "metadata": {},
   "outputs": [
    {
     "name": "stdout",
     "output_type": "stream",
     "text": [
      "<class 'pandas.core.frame.DataFrame'>\n",
      "Int64Index: 2409 entries, 10 to 54806\n",
      "Data columns (total 14 columns):\n",
      "employee_id             2409 non-null int64\n",
      "department              2409 non-null object\n",
      "region                  2409 non-null object\n",
      "education               0 non-null object\n",
      "gender                  2409 non-null object\n",
      "recruitment_channel     2409 non-null object\n",
      "no_of_trainings         2409 non-null int64\n",
      "age                     2409 non-null int64\n",
      "previous_year_rating    2024 non-null float64\n",
      "length_of_service       2409 non-null int64\n",
      "KPIs_met >80%           2409 non-null int64\n",
      "awards_won?             2409 non-null int64\n",
      "avg_training_score      2409 non-null int64\n",
      "is_promoted             2409 non-null int64\n",
      "dtypes: float64(1), int64(8), object(5)\n",
      "memory usage: 282.3+ KB\n"
     ]
    }
   ],
   "source": [
    "missing_values_edu.info()"
   ]
  },
  {
   "cell_type": "markdown",
   "metadata": {},
   "source": [
    "Now lets take the main_dataset and drop all those missing values in it"
   ]
  },
  {
   "cell_type": "code",
   "execution_count": 11,
   "metadata": {},
   "outputs": [],
   "source": [
    "train_data=Employee_dataset.dropna()"
   ]
  },
  {
   "cell_type": "code",
   "execution_count": 12,
   "metadata": {},
   "outputs": [
    {
     "data": {
      "text/html": [
       "<div>\n",
       "<style scoped>\n",
       "    .dataframe tbody tr th:only-of-type {\n",
       "        vertical-align: middle;\n",
       "    }\n",
       "\n",
       "    .dataframe tbody tr th {\n",
       "        vertical-align: top;\n",
       "    }\n",
       "\n",
       "    .dataframe thead th {\n",
       "        text-align: right;\n",
       "    }\n",
       "</style>\n",
       "<table border=\"1\" class=\"dataframe\">\n",
       "  <thead>\n",
       "    <tr style=\"text-align: right;\">\n",
       "      <th></th>\n",
       "      <th>employee_id</th>\n",
       "      <th>department</th>\n",
       "      <th>region</th>\n",
       "      <th>education</th>\n",
       "      <th>gender</th>\n",
       "      <th>recruitment_channel</th>\n",
       "      <th>no_of_trainings</th>\n",
       "      <th>age</th>\n",
       "      <th>previous_year_rating</th>\n",
       "      <th>length_of_service</th>\n",
       "      <th>KPIs_met &gt;80%</th>\n",
       "      <th>awards_won?</th>\n",
       "      <th>avg_training_score</th>\n",
       "      <th>is_promoted</th>\n",
       "    </tr>\n",
       "  </thead>\n",
       "  <tbody>\n",
       "    <tr>\n",
       "      <th>0</th>\n",
       "      <td>65438</td>\n",
       "      <td>Sales &amp; Marketing</td>\n",
       "      <td>region_7</td>\n",
       "      <td>Master's &amp; above</td>\n",
       "      <td>f</td>\n",
       "      <td>sourcing</td>\n",
       "      <td>1</td>\n",
       "      <td>35</td>\n",
       "      <td>5.0</td>\n",
       "      <td>8</td>\n",
       "      <td>1</td>\n",
       "      <td>0</td>\n",
       "      <td>49</td>\n",
       "      <td>0</td>\n",
       "    </tr>\n",
       "    <tr>\n",
       "      <th>1</th>\n",
       "      <td>65141</td>\n",
       "      <td>Operations</td>\n",
       "      <td>region_22</td>\n",
       "      <td>Bachelor's</td>\n",
       "      <td>m</td>\n",
       "      <td>other</td>\n",
       "      <td>1</td>\n",
       "      <td>30</td>\n",
       "      <td>5.0</td>\n",
       "      <td>4</td>\n",
       "      <td>0</td>\n",
       "      <td>0</td>\n",
       "      <td>60</td>\n",
       "      <td>0</td>\n",
       "    </tr>\n",
       "    <tr>\n",
       "      <th>2</th>\n",
       "      <td>7513</td>\n",
       "      <td>Sales &amp; Marketing</td>\n",
       "      <td>region_19</td>\n",
       "      <td>Bachelor's</td>\n",
       "      <td>m</td>\n",
       "      <td>sourcing</td>\n",
       "      <td>1</td>\n",
       "      <td>34</td>\n",
       "      <td>3.0</td>\n",
       "      <td>7</td>\n",
       "      <td>0</td>\n",
       "      <td>0</td>\n",
       "      <td>50</td>\n",
       "      <td>0</td>\n",
       "    </tr>\n",
       "    <tr>\n",
       "      <th>3</th>\n",
       "      <td>2542</td>\n",
       "      <td>Sales &amp; Marketing</td>\n",
       "      <td>region_23</td>\n",
       "      <td>Bachelor's</td>\n",
       "      <td>m</td>\n",
       "      <td>other</td>\n",
       "      <td>2</td>\n",
       "      <td>39</td>\n",
       "      <td>1.0</td>\n",
       "      <td>10</td>\n",
       "      <td>0</td>\n",
       "      <td>0</td>\n",
       "      <td>50</td>\n",
       "      <td>0</td>\n",
       "    </tr>\n",
       "    <tr>\n",
       "      <th>4</th>\n",
       "      <td>48945</td>\n",
       "      <td>Technology</td>\n",
       "      <td>region_26</td>\n",
       "      <td>Bachelor's</td>\n",
       "      <td>m</td>\n",
       "      <td>other</td>\n",
       "      <td>1</td>\n",
       "      <td>45</td>\n",
       "      <td>3.0</td>\n",
       "      <td>2</td>\n",
       "      <td>0</td>\n",
       "      <td>0</td>\n",
       "      <td>73</td>\n",
       "      <td>0</td>\n",
       "    </tr>\n",
       "  </tbody>\n",
       "</table>\n",
       "</div>"
      ],
      "text/plain": [
       "   employee_id         department     region         education gender  \\\n",
       "0        65438  Sales & Marketing   region_7  Master's & above      f   \n",
       "1        65141         Operations  region_22        Bachelor's      m   \n",
       "2         7513  Sales & Marketing  region_19        Bachelor's      m   \n",
       "3         2542  Sales & Marketing  region_23        Bachelor's      m   \n",
       "4        48945         Technology  region_26        Bachelor's      m   \n",
       "\n",
       "  recruitment_channel  no_of_trainings  age  previous_year_rating  \\\n",
       "0            sourcing                1   35                   5.0   \n",
       "1               other                1   30                   5.0   \n",
       "2            sourcing                1   34                   3.0   \n",
       "3               other                2   39                   1.0   \n",
       "4               other                1   45                   3.0   \n",
       "\n",
       "   length_of_service  KPIs_met >80%  awards_won?  avg_training_score  \\\n",
       "0                  8              1            0                  49   \n",
       "1                  4              0            0                  60   \n",
       "2                  7              0            0                  50   \n",
       "3                 10              0            0                  50   \n",
       "4                  2              0            0                  73   \n",
       "\n",
       "   is_promoted  \n",
       "0            0  \n",
       "1            0  \n",
       "2            0  \n",
       "3            0  \n",
       "4            0  "
      ]
     },
     "execution_count": 12,
     "metadata": {},
     "output_type": "execute_result"
    }
   ],
   "source": [
    "train_data.head()"
   ]
  },
  {
   "cell_type": "code",
   "execution_count": 13,
   "metadata": {},
   "outputs": [
    {
     "name": "stdout",
     "output_type": "stream",
     "text": [
      "<class 'pandas.core.frame.DataFrame'>\n",
      "Int64Index: 48660 entries, 0 to 54807\n",
      "Data columns (total 14 columns):\n",
      "employee_id             48660 non-null int64\n",
      "department              48660 non-null object\n",
      "region                  48660 non-null object\n",
      "education               48660 non-null object\n",
      "gender                  48660 non-null object\n",
      "recruitment_channel     48660 non-null object\n",
      "no_of_trainings         48660 non-null int64\n",
      "age                     48660 non-null int64\n",
      "previous_year_rating    48660 non-null float64\n",
      "length_of_service       48660 non-null int64\n",
      "KPIs_met >80%           48660 non-null int64\n",
      "awards_won?             48660 non-null int64\n",
      "avg_training_score      48660 non-null int64\n",
      "is_promoted             48660 non-null int64\n",
      "dtypes: float64(1), int64(8), object(5)\n",
      "memory usage: 5.6+ MB\n"
     ]
    }
   ],
   "source": [
    "train_data.info()"
   ]
  },
  {
   "cell_type": "markdown",
   "metadata": {},
   "source": [
    "Lets reset the index for the train data"
   ]
  },
  {
   "cell_type": "code",
   "execution_count": 14,
   "metadata": {},
   "outputs": [],
   "source": [
    "train_data.reset_index(inplace=True,drop=True)"
   ]
  },
  {
   "cell_type": "code",
   "execution_count": 15,
   "metadata": {},
   "outputs": [
    {
     "name": "stdout",
     "output_type": "stream",
     "text": [
      "<class 'pandas.core.frame.DataFrame'>\n",
      "RangeIndex: 48660 entries, 0 to 48659\n",
      "Data columns (total 14 columns):\n",
      "employee_id             48660 non-null int64\n",
      "department              48660 non-null object\n",
      "region                  48660 non-null object\n",
      "education               48660 non-null object\n",
      "gender                  48660 non-null object\n",
      "recruitment_channel     48660 non-null object\n",
      "no_of_trainings         48660 non-null int64\n",
      "age                     48660 non-null int64\n",
      "previous_year_rating    48660 non-null float64\n",
      "length_of_service       48660 non-null int64\n",
      "KPIs_met >80%           48660 non-null int64\n",
      "awards_won?             48660 non-null int64\n",
      "avg_training_score      48660 non-null int64\n",
      "is_promoted             48660 non-null int64\n",
      "dtypes: float64(1), int64(8), object(5)\n",
      "memory usage: 5.2+ MB\n"
     ]
    }
   ],
   "source": [
    "train_data.info()"
   ]
  },
  {
   "cell_type": "markdown",
   "metadata": {},
   "source": [
    "Input and output variables"
   ]
  },
  {
   "cell_type": "code",
   "execution_count": 16,
   "metadata": {},
   "outputs": [],
   "source": [
    "from sklearn.feature_selection import chi2"
   ]
  },
  {
   "cell_type": "code",
   "execution_count": 17,
   "metadata": {},
   "outputs": [],
   "source": [
    "x=train_data.drop(['employee_id','education'],axis=1)\n",
    "x=pd.get_dummies(x,drop_first=True)\n",
    "y=train_data['education']"
   ]
  },
  {
   "cell_type": "code",
   "execution_count": 18,
   "metadata": {},
   "outputs": [],
   "source": [
    "p_value=chi2(x,y)"
   ]
  },
  {
   "cell_type": "code",
   "execution_count": 19,
   "metadata": {},
   "outputs": [
    {
     "name": "stdout",
     "output_type": "stream",
     "text": [
      "<class 'pandas.core.frame.DataFrame'>\n",
      "RangeIndex: 48660 entries, 0 to 48659\n",
      "Data columns (total 52 columns):\n",
      "no_of_trainings                 48660 non-null int64\n",
      "age                             48660 non-null int64\n",
      "previous_year_rating            48660 non-null float64\n",
      "length_of_service               48660 non-null int64\n",
      "KPIs_met >80%                   48660 non-null int64\n",
      "awards_won?                     48660 non-null int64\n",
      "avg_training_score              48660 non-null int64\n",
      "is_promoted                     48660 non-null int64\n",
      "department_Finance              48660 non-null uint8\n",
      "department_HR                   48660 non-null uint8\n",
      "department_Legal                48660 non-null uint8\n",
      "department_Operations           48660 non-null uint8\n",
      "department_Procurement          48660 non-null uint8\n",
      "department_R&D                  48660 non-null uint8\n",
      "department_Sales & Marketing    48660 non-null uint8\n",
      "department_Technology           48660 non-null uint8\n",
      "region_region_10                48660 non-null uint8\n",
      "region_region_11                48660 non-null uint8\n",
      "region_region_12                48660 non-null uint8\n",
      "region_region_13                48660 non-null uint8\n",
      "region_region_14                48660 non-null uint8\n",
      "region_region_15                48660 non-null uint8\n",
      "region_region_16                48660 non-null uint8\n",
      "region_region_17                48660 non-null uint8\n",
      "region_region_18                48660 non-null uint8\n",
      "region_region_19                48660 non-null uint8\n",
      "region_region_2                 48660 non-null uint8\n",
      "region_region_20                48660 non-null uint8\n",
      "region_region_21                48660 non-null uint8\n",
      "region_region_22                48660 non-null uint8\n",
      "region_region_23                48660 non-null uint8\n",
      "region_region_24                48660 non-null uint8\n",
      "region_region_25                48660 non-null uint8\n",
      "region_region_26                48660 non-null uint8\n",
      "region_region_27                48660 non-null uint8\n",
      "region_region_28                48660 non-null uint8\n",
      "region_region_29                48660 non-null uint8\n",
      "region_region_3                 48660 non-null uint8\n",
      "region_region_30                48660 non-null uint8\n",
      "region_region_31                48660 non-null uint8\n",
      "region_region_32                48660 non-null uint8\n",
      "region_region_33                48660 non-null uint8\n",
      "region_region_34                48660 non-null uint8\n",
      "region_region_4                 48660 non-null uint8\n",
      "region_region_5                 48660 non-null uint8\n",
      "region_region_6                 48660 non-null uint8\n",
      "region_region_7                 48660 non-null uint8\n",
      "region_region_8                 48660 non-null uint8\n",
      "region_region_9                 48660 non-null uint8\n",
      "gender_m                        48660 non-null uint8\n",
      "recruitment_channel_referred    48660 non-null uint8\n",
      "recruitment_channel_sourcing    48660 non-null uint8\n",
      "dtypes: float64(1), int64(7), uint8(44)\n",
      "memory usage: 5.0 MB\n"
     ]
    }
   ],
   "source": [
    "x.info()"
   ]
  },
  {
   "cell_type": "code",
   "execution_count": 20,
   "metadata": {},
   "outputs": [
    {
     "data": {
      "text/plain": [
       "array([ True,  True,  True,  True, False, False,  True,  True,  True,\n",
       "        True,  True, False,  True,  True,  True,  True,  True,  True,\n",
       "        True,  True,  True,  True,  True,  True,  True,  True,  True,\n",
       "        True,  True, False,  True,  True,  True,  True,  True,  True,\n",
       "        True,  True,  True,  True,  True, False,  True,  True,  True,\n",
       "        True,  True, False, False,  True,  True, False])"
      ]
     },
     "execution_count": 20,
     "metadata": {},
     "output_type": "execute_result"
    }
   ],
   "source": [
    "p_value[1] <0.05"
   ]
  },
  {
   "cell_type": "code",
   "execution_count": 21,
   "metadata": {},
   "outputs": [],
   "source": [
    "x.drop(['recruitment_channel_sourcing','region_region_9','region_region_8','region_region_33','KPIs_met >80%','awards_won?','department_Operations','previous_year_rating','region_region_34','region_region_18'],axis=1,inplace=True)"
   ]
  },
  {
   "cell_type": "code",
   "execution_count": 22,
   "metadata": {},
   "outputs": [
    {
     "data": {
      "text/html": [
       "<div>\n",
       "<style scoped>\n",
       "    .dataframe tbody tr th:only-of-type {\n",
       "        vertical-align: middle;\n",
       "    }\n",
       "\n",
       "    .dataframe tbody tr th {\n",
       "        vertical-align: top;\n",
       "    }\n",
       "\n",
       "    .dataframe thead th {\n",
       "        text-align: right;\n",
       "    }\n",
       "</style>\n",
       "<table border=\"1\" class=\"dataframe\">\n",
       "  <thead>\n",
       "    <tr style=\"text-align: right;\">\n",
       "      <th></th>\n",
       "      <th>no_of_trainings</th>\n",
       "      <th>age</th>\n",
       "      <th>length_of_service</th>\n",
       "      <th>avg_training_score</th>\n",
       "      <th>is_promoted</th>\n",
       "      <th>department_Finance</th>\n",
       "      <th>department_HR</th>\n",
       "      <th>department_Legal</th>\n",
       "      <th>department_Procurement</th>\n",
       "      <th>department_R&amp;D</th>\n",
       "      <th>...</th>\n",
       "      <th>region_region_3</th>\n",
       "      <th>region_region_30</th>\n",
       "      <th>region_region_31</th>\n",
       "      <th>region_region_32</th>\n",
       "      <th>region_region_4</th>\n",
       "      <th>region_region_5</th>\n",
       "      <th>region_region_6</th>\n",
       "      <th>region_region_7</th>\n",
       "      <th>gender_m</th>\n",
       "      <th>recruitment_channel_referred</th>\n",
       "    </tr>\n",
       "  </thead>\n",
       "  <tbody>\n",
       "    <tr>\n",
       "      <th>0</th>\n",
       "      <td>1</td>\n",
       "      <td>35</td>\n",
       "      <td>8</td>\n",
       "      <td>49</td>\n",
       "      <td>0</td>\n",
       "      <td>0</td>\n",
       "      <td>0</td>\n",
       "      <td>0</td>\n",
       "      <td>0</td>\n",
       "      <td>0</td>\n",
       "      <td>...</td>\n",
       "      <td>0</td>\n",
       "      <td>0</td>\n",
       "      <td>0</td>\n",
       "      <td>0</td>\n",
       "      <td>0</td>\n",
       "      <td>0</td>\n",
       "      <td>0</td>\n",
       "      <td>1</td>\n",
       "      <td>0</td>\n",
       "      <td>0</td>\n",
       "    </tr>\n",
       "    <tr>\n",
       "      <th>1</th>\n",
       "      <td>1</td>\n",
       "      <td>30</td>\n",
       "      <td>4</td>\n",
       "      <td>60</td>\n",
       "      <td>0</td>\n",
       "      <td>0</td>\n",
       "      <td>0</td>\n",
       "      <td>0</td>\n",
       "      <td>0</td>\n",
       "      <td>0</td>\n",
       "      <td>...</td>\n",
       "      <td>0</td>\n",
       "      <td>0</td>\n",
       "      <td>0</td>\n",
       "      <td>0</td>\n",
       "      <td>0</td>\n",
       "      <td>0</td>\n",
       "      <td>0</td>\n",
       "      <td>0</td>\n",
       "      <td>1</td>\n",
       "      <td>0</td>\n",
       "    </tr>\n",
       "    <tr>\n",
       "      <th>2</th>\n",
       "      <td>1</td>\n",
       "      <td>34</td>\n",
       "      <td>7</td>\n",
       "      <td>50</td>\n",
       "      <td>0</td>\n",
       "      <td>0</td>\n",
       "      <td>0</td>\n",
       "      <td>0</td>\n",
       "      <td>0</td>\n",
       "      <td>0</td>\n",
       "      <td>...</td>\n",
       "      <td>0</td>\n",
       "      <td>0</td>\n",
       "      <td>0</td>\n",
       "      <td>0</td>\n",
       "      <td>0</td>\n",
       "      <td>0</td>\n",
       "      <td>0</td>\n",
       "      <td>0</td>\n",
       "      <td>1</td>\n",
       "      <td>0</td>\n",
       "    </tr>\n",
       "    <tr>\n",
       "      <th>3</th>\n",
       "      <td>2</td>\n",
       "      <td>39</td>\n",
       "      <td>10</td>\n",
       "      <td>50</td>\n",
       "      <td>0</td>\n",
       "      <td>0</td>\n",
       "      <td>0</td>\n",
       "      <td>0</td>\n",
       "      <td>0</td>\n",
       "      <td>0</td>\n",
       "      <td>...</td>\n",
       "      <td>0</td>\n",
       "      <td>0</td>\n",
       "      <td>0</td>\n",
       "      <td>0</td>\n",
       "      <td>0</td>\n",
       "      <td>0</td>\n",
       "      <td>0</td>\n",
       "      <td>0</td>\n",
       "      <td>1</td>\n",
       "      <td>0</td>\n",
       "    </tr>\n",
       "    <tr>\n",
       "      <th>4</th>\n",
       "      <td>1</td>\n",
       "      <td>45</td>\n",
       "      <td>2</td>\n",
       "      <td>73</td>\n",
       "      <td>0</td>\n",
       "      <td>0</td>\n",
       "      <td>0</td>\n",
       "      <td>0</td>\n",
       "      <td>0</td>\n",
       "      <td>0</td>\n",
       "      <td>...</td>\n",
       "      <td>0</td>\n",
       "      <td>0</td>\n",
       "      <td>0</td>\n",
       "      <td>0</td>\n",
       "      <td>0</td>\n",
       "      <td>0</td>\n",
       "      <td>0</td>\n",
       "      <td>0</td>\n",
       "      <td>1</td>\n",
       "      <td>0</td>\n",
       "    </tr>\n",
       "  </tbody>\n",
       "</table>\n",
       "<p>5 rows × 42 columns</p>\n",
       "</div>"
      ],
      "text/plain": [
       "   no_of_trainings  age  length_of_service  avg_training_score  is_promoted  \\\n",
       "0                1   35                  8                  49            0   \n",
       "1                1   30                  4                  60            0   \n",
       "2                1   34                  7                  50            0   \n",
       "3                2   39                 10                  50            0   \n",
       "4                1   45                  2                  73            0   \n",
       "\n",
       "   department_Finance  department_HR  department_Legal  \\\n",
       "0                   0              0                 0   \n",
       "1                   0              0                 0   \n",
       "2                   0              0                 0   \n",
       "3                   0              0                 0   \n",
       "4                   0              0                 0   \n",
       "\n",
       "   department_Procurement  department_R&D  ...  region_region_3  \\\n",
       "0                       0               0  ...                0   \n",
       "1                       0               0  ...                0   \n",
       "2                       0               0  ...                0   \n",
       "3                       0               0  ...                0   \n",
       "4                       0               0  ...                0   \n",
       "\n",
       "   region_region_30  region_region_31  region_region_32  region_region_4  \\\n",
       "0                 0                 0                 0                0   \n",
       "1                 0                 0                 0                0   \n",
       "2                 0                 0                 0                0   \n",
       "3                 0                 0                 0                0   \n",
       "4                 0                 0                 0                0   \n",
       "\n",
       "   region_region_5  region_region_6  region_region_7  gender_m  \\\n",
       "0                0                0                1         0   \n",
       "1                0                0                0         1   \n",
       "2                0                0                0         1   \n",
       "3                0                0                0         1   \n",
       "4                0                0                0         1   \n",
       "\n",
       "   recruitment_channel_referred  \n",
       "0                             0  \n",
       "1                             0  \n",
       "2                             0  \n",
       "3                             0  \n",
       "4                             0  \n",
       "\n",
       "[5 rows x 42 columns]"
      ]
     },
     "execution_count": 22,
     "metadata": {},
     "output_type": "execute_result"
    }
   ],
   "source": [
    "x.head()"
   ]
  },
  {
   "cell_type": "markdown",
   "metadata": {},
   "source": [
    "# Encoding the data"
   ]
  },
  {
   "cell_type": "code",
   "execution_count": 23,
   "metadata": {},
   "outputs": [],
   "source": [
    "from sklearn.model_selection import train_test_split\n",
    "x_train, x_test, y_train, y_test = train_test_split(x, y, test_size=0.2, random_state=101)"
   ]
  },
  {
   "cell_type": "markdown",
   "metadata": {},
   "source": [
    "# Buiding the model"
   ]
  },
  {
   "cell_type": "code",
   "execution_count": 24,
   "metadata": {},
   "outputs": [],
   "source": [
    "from sklearn.ensemble import RandomForestClassifier"
   ]
  },
  {
   "cell_type": "code",
   "execution_count": 25,
   "metadata": {},
   "outputs": [],
   "source": [
    "rfc=RandomForestClassifier(100)"
   ]
  },
  {
   "cell_type": "code",
   "execution_count": 26,
   "metadata": {},
   "outputs": [
    {
     "data": {
      "text/plain": [
       "RandomForestClassifier(bootstrap=True, class_weight=None, criterion='gini',\n",
       "            max_depth=None, max_features='auto', max_leaf_nodes=None,\n",
       "            min_impurity_decrease=0.0, min_impurity_split=None,\n",
       "            min_samples_leaf=1, min_samples_split=2,\n",
       "            min_weight_fraction_leaf=0.0, n_estimators=100, n_jobs=None,\n",
       "            oob_score=False, random_state=None, verbose=0,\n",
       "            warm_start=False)"
      ]
     },
     "execution_count": 26,
     "metadata": {},
     "output_type": "execute_result"
    }
   ],
   "source": [
    "rfc.fit(x_train,y_train)"
   ]
  },
  {
   "cell_type": "code",
   "execution_count": 27,
   "metadata": {},
   "outputs": [],
   "source": [
    "predictions=rfc.predict(x_test)"
   ]
  },
  {
   "cell_type": "markdown",
   "metadata": {},
   "source": [
    "# Model Evaluation"
   ]
  },
  {
   "cell_type": "code",
   "execution_count": 28,
   "metadata": {},
   "outputs": [],
   "source": [
    "from sklearn.metrics import classification_report,confusion_matrix,accuracy_score"
   ]
  },
  {
   "cell_type": "code",
   "execution_count": 29,
   "metadata": {},
   "outputs": [
    {
     "name": "stdout",
     "output_type": "stream",
     "text": [
      "                  precision    recall  f1-score   support\n",
      "\n",
      "      Bachelor's       0.76      0.83      0.79      6615\n",
      " Below Secondary       0.62      0.45      0.52       100\n",
      "Master's & above       0.54      0.43      0.48      3017\n",
      "\n",
      "       micro avg       0.70      0.70      0.70      9732\n",
      "       macro avg       0.64      0.57      0.60      9732\n",
      "    weighted avg       0.69      0.70      0.69      9732\n",
      "\n",
      "[[5490   26 1099]\n",
      " [  55   45    0]\n",
      " [1711    1 1305]]\n",
      "0.7028360049321825\n"
     ]
    }
   ],
   "source": [
    "print(classification_report(y_test,predictions))\n",
    "print(confusion_matrix(y_test,predictions))\n",
    "print(accuracy_score(y_test,predictions))"
   ]
  },
  {
   "cell_type": "markdown",
   "metadata": {},
   "source": [
    "Now lets predict the education column missing values"
   ]
  },
  {
   "cell_type": "code",
   "execution_count": 30,
   "metadata": {},
   "outputs": [],
   "source": [
    "test_edu=missing_values_edu.drop(['employee_id','education'],axis=1)\n",
    "test_edu=pd.get_dummies(test_edu,drop_first=True)\n",
    "test_edu.drop(['recruitment_channel_sourcing','region_region_9','region_region_8','KPIs_met >80%','awards_won?','department_Operations','previous_year_rating'],axis=1,inplace=True)"
   ]
  },
  {
   "cell_type": "code",
   "execution_count": 31,
   "metadata": {},
   "outputs": [],
   "source": [
    "test_edu['education']=rfc.predict(test_edu)"
   ]
  },
  {
   "cell_type": "code",
   "execution_count": 32,
   "metadata": {},
   "outputs": [
    {
     "data": {
      "text/html": [
       "<div>\n",
       "<style scoped>\n",
       "    .dataframe tbody tr th:only-of-type {\n",
       "        vertical-align: middle;\n",
       "    }\n",
       "\n",
       "    .dataframe tbody tr th {\n",
       "        vertical-align: top;\n",
       "    }\n",
       "\n",
       "    .dataframe thead th {\n",
       "        text-align: right;\n",
       "    }\n",
       "</style>\n",
       "<table border=\"1\" class=\"dataframe\">\n",
       "  <thead>\n",
       "    <tr style=\"text-align: right;\">\n",
       "      <th></th>\n",
       "      <th>no_of_trainings</th>\n",
       "      <th>age</th>\n",
       "      <th>length_of_service</th>\n",
       "      <th>avg_training_score</th>\n",
       "      <th>is_promoted</th>\n",
       "      <th>department_Finance</th>\n",
       "      <th>department_HR</th>\n",
       "      <th>department_Legal</th>\n",
       "      <th>department_Procurement</th>\n",
       "      <th>department_R&amp;D</th>\n",
       "      <th>...</th>\n",
       "      <th>region_region_30</th>\n",
       "      <th>region_region_31</th>\n",
       "      <th>region_region_32</th>\n",
       "      <th>region_region_4</th>\n",
       "      <th>region_region_5</th>\n",
       "      <th>region_region_6</th>\n",
       "      <th>region_region_7</th>\n",
       "      <th>gender_m</th>\n",
       "      <th>recruitment_channel_referred</th>\n",
       "      <th>education</th>\n",
       "    </tr>\n",
       "  </thead>\n",
       "  <tbody>\n",
       "    <tr>\n",
       "      <th>10</th>\n",
       "      <td>1</td>\n",
       "      <td>30</td>\n",
       "      <td>1</td>\n",
       "      <td>77</td>\n",
       "      <td>0</td>\n",
       "      <td>0</td>\n",
       "      <td>0</td>\n",
       "      <td>0</td>\n",
       "      <td>0</td>\n",
       "      <td>0</td>\n",
       "      <td>...</td>\n",
       "      <td>0</td>\n",
       "      <td>0</td>\n",
       "      <td>0</td>\n",
       "      <td>0</td>\n",
       "      <td>0</td>\n",
       "      <td>0</td>\n",
       "      <td>0</td>\n",
       "      <td>1</td>\n",
       "      <td>0</td>\n",
       "      <td>Bachelor's</td>\n",
       "    </tr>\n",
       "    <tr>\n",
       "      <th>21</th>\n",
       "      <td>1</td>\n",
       "      <td>41</td>\n",
       "      <td>11</td>\n",
       "      <td>57</td>\n",
       "      <td>0</td>\n",
       "      <td>0</td>\n",
       "      <td>0</td>\n",
       "      <td>0</td>\n",
       "      <td>0</td>\n",
       "      <td>0</td>\n",
       "      <td>...</td>\n",
       "      <td>0</td>\n",
       "      <td>0</td>\n",
       "      <td>0</td>\n",
       "      <td>0</td>\n",
       "      <td>0</td>\n",
       "      <td>0</td>\n",
       "      <td>0</td>\n",
       "      <td>1</td>\n",
       "      <td>0</td>\n",
       "      <td>Bachelor's</td>\n",
       "    </tr>\n",
       "    <tr>\n",
       "      <th>32</th>\n",
       "      <td>1</td>\n",
       "      <td>24</td>\n",
       "      <td>2</td>\n",
       "      <td>48</td>\n",
       "      <td>0</td>\n",
       "      <td>0</td>\n",
       "      <td>0</td>\n",
       "      <td>0</td>\n",
       "      <td>0</td>\n",
       "      <td>0</td>\n",
       "      <td>...</td>\n",
       "      <td>0</td>\n",
       "      <td>0</td>\n",
       "      <td>0</td>\n",
       "      <td>0</td>\n",
       "      <td>0</td>\n",
       "      <td>0</td>\n",
       "      <td>1</td>\n",
       "      <td>0</td>\n",
       "      <td>0</td>\n",
       "      <td>Bachelor's</td>\n",
       "    </tr>\n",
       "    <tr>\n",
       "      <th>43</th>\n",
       "      <td>3</td>\n",
       "      <td>24</td>\n",
       "      <td>2</td>\n",
       "      <td>48</td>\n",
       "      <td>0</td>\n",
       "      <td>0</td>\n",
       "      <td>0</td>\n",
       "      <td>0</td>\n",
       "      <td>0</td>\n",
       "      <td>0</td>\n",
       "      <td>...</td>\n",
       "      <td>0</td>\n",
       "      <td>0</td>\n",
       "      <td>0</td>\n",
       "      <td>0</td>\n",
       "      <td>0</td>\n",
       "      <td>0</td>\n",
       "      <td>0</td>\n",
       "      <td>1</td>\n",
       "      <td>0</td>\n",
       "      <td>Bachelor's</td>\n",
       "    </tr>\n",
       "    <tr>\n",
       "      <th>82</th>\n",
       "      <td>2</td>\n",
       "      <td>25</td>\n",
       "      <td>2</td>\n",
       "      <td>53</td>\n",
       "      <td>0</td>\n",
       "      <td>0</td>\n",
       "      <td>0</td>\n",
       "      <td>0</td>\n",
       "      <td>0</td>\n",
       "      <td>0</td>\n",
       "      <td>...</td>\n",
       "      <td>0</td>\n",
       "      <td>0</td>\n",
       "      <td>0</td>\n",
       "      <td>0</td>\n",
       "      <td>0</td>\n",
       "      <td>0</td>\n",
       "      <td>0</td>\n",
       "      <td>1</td>\n",
       "      <td>0</td>\n",
       "      <td>Bachelor's</td>\n",
       "    </tr>\n",
       "  </tbody>\n",
       "</table>\n",
       "<p>5 rows × 43 columns</p>\n",
       "</div>"
      ],
      "text/plain": [
       "    no_of_trainings  age  length_of_service  avg_training_score  is_promoted  \\\n",
       "10                1   30                  1                  77            0   \n",
       "21                1   41                 11                  57            0   \n",
       "32                1   24                  2                  48            0   \n",
       "43                3   24                  2                  48            0   \n",
       "82                2   25                  2                  53            0   \n",
       "\n",
       "    department_Finance  department_HR  department_Legal  \\\n",
       "10                   0              0                 0   \n",
       "21                   0              0                 0   \n",
       "32                   0              0                 0   \n",
       "43                   0              0                 0   \n",
       "82                   0              0                 0   \n",
       "\n",
       "    department_Procurement  department_R&D  ...  region_region_30  \\\n",
       "10                       0               0  ...                 0   \n",
       "21                       0               0  ...                 0   \n",
       "32                       0               0  ...                 0   \n",
       "43                       0               0  ...                 0   \n",
       "82                       0               0  ...                 0   \n",
       "\n",
       "    region_region_31  region_region_32  region_region_4  region_region_5  \\\n",
       "10                 0                 0                0                0   \n",
       "21                 0                 0                0                0   \n",
       "32                 0                 0                0                0   \n",
       "43                 0                 0                0                0   \n",
       "82                 0                 0                0                0   \n",
       "\n",
       "    region_region_6  region_region_7  gender_m  recruitment_channel_referred  \\\n",
       "10                0                0         1                             0   \n",
       "21                0                0         1                             0   \n",
       "32                0                1         0                             0   \n",
       "43                0                0         1                             0   \n",
       "82                0                0         1                             0   \n",
       "\n",
       "     education  \n",
       "10  Bachelor's  \n",
       "21  Bachelor's  \n",
       "32  Bachelor's  \n",
       "43  Bachelor's  \n",
       "82  Bachelor's  \n",
       "\n",
       "[5 rows x 43 columns]"
      ]
     },
     "execution_count": 32,
     "metadata": {},
     "output_type": "execute_result"
    }
   ],
   "source": [
    "test_edu.head()"
   ]
  },
  {
   "cell_type": "code",
   "execution_count": 33,
   "metadata": {},
   "outputs": [
    {
     "name": "stdout",
     "output_type": "stream",
     "text": [
      "<class 'pandas.core.frame.DataFrame'>\n",
      "Int64Index: 2409 entries, 10 to 54806\n",
      "Data columns (total 43 columns):\n",
      "no_of_trainings                 2409 non-null int64\n",
      "age                             2409 non-null int64\n",
      "length_of_service               2409 non-null int64\n",
      "avg_training_score              2409 non-null int64\n",
      "is_promoted                     2409 non-null int64\n",
      "department_Finance              2409 non-null uint8\n",
      "department_HR                   2409 non-null uint8\n",
      "department_Legal                2409 non-null uint8\n",
      "department_Procurement          2409 non-null uint8\n",
      "department_R&D                  2409 non-null uint8\n",
      "department_Sales & Marketing    2409 non-null uint8\n",
      "department_Technology           2409 non-null uint8\n",
      "region_region_10                2409 non-null uint8\n",
      "region_region_11                2409 non-null uint8\n",
      "region_region_12                2409 non-null uint8\n",
      "region_region_13                2409 non-null uint8\n",
      "region_region_14                2409 non-null uint8\n",
      "region_region_15                2409 non-null uint8\n",
      "region_region_16                2409 non-null uint8\n",
      "region_region_17                2409 non-null uint8\n",
      "region_region_19                2409 non-null uint8\n",
      "region_region_2                 2409 non-null uint8\n",
      "region_region_20                2409 non-null uint8\n",
      "region_region_21                2409 non-null uint8\n",
      "region_region_22                2409 non-null uint8\n",
      "region_region_23                2409 non-null uint8\n",
      "region_region_24                2409 non-null uint8\n",
      "region_region_25                2409 non-null uint8\n",
      "region_region_26                2409 non-null uint8\n",
      "region_region_27                2409 non-null uint8\n",
      "region_region_28                2409 non-null uint8\n",
      "region_region_29                2409 non-null uint8\n",
      "region_region_3                 2409 non-null uint8\n",
      "region_region_30                2409 non-null uint8\n",
      "region_region_31                2409 non-null uint8\n",
      "region_region_32                2409 non-null uint8\n",
      "region_region_4                 2409 non-null uint8\n",
      "region_region_5                 2409 non-null uint8\n",
      "region_region_6                 2409 non-null uint8\n",
      "region_region_7                 2409 non-null uint8\n",
      "gender_m                        2409 non-null uint8\n",
      "recruitment_channel_referred    2409 non-null uint8\n",
      "education                       2409 non-null object\n",
      "dtypes: int64(5), object(1), uint8(37)\n",
      "memory usage: 218.8+ KB\n"
     ]
    }
   ],
   "source": [
    "test_edu.info()"
   ]
  },
  {
   "cell_type": "markdown",
   "metadata": {},
   "source": [
    "# Now lets do the same for Previous_year_rating column"
   ]
  },
  {
   "cell_type": "code",
   "execution_count": 34,
   "metadata": {},
   "outputs": [],
   "source": [
    "missing_values_pyr=Employee_dataset[Employee_dataset['previous_year_rating'].isnull()]"
   ]
  },
  {
   "cell_type": "code",
   "execution_count": 35,
   "metadata": {},
   "outputs": [
    {
     "name": "stdout",
     "output_type": "stream",
     "text": [
      "<class 'pandas.core.frame.DataFrame'>\n",
      "Int64Index: 4124 entries, 10 to 54801\n",
      "Data columns (total 14 columns):\n",
      "employee_id             4124 non-null int64\n",
      "department              4124 non-null object\n",
      "region                  4124 non-null object\n",
      "education               3739 non-null object\n",
      "gender                  4124 non-null object\n",
      "recruitment_channel     4124 non-null object\n",
      "no_of_trainings         4124 non-null int64\n",
      "age                     4124 non-null int64\n",
      "previous_year_rating    0 non-null float64\n",
      "length_of_service       4124 non-null int64\n",
      "KPIs_met >80%           4124 non-null int64\n",
      "awards_won?             4124 non-null int64\n",
      "avg_training_score      4124 non-null int64\n",
      "is_promoted             4124 non-null int64\n",
      "dtypes: float64(1), int64(8), object(5)\n",
      "memory usage: 483.3+ KB\n"
     ]
    }
   ],
   "source": [
    "missing_values_pyr.info()"
   ]
  },
  {
   "cell_type": "code",
   "execution_count": 36,
   "metadata": {},
   "outputs": [],
   "source": [
    "x=train_data.drop(['employee_id','previous_year_rating'],axis=1)\n",
    "x=pd.get_dummies(x,drop_first=True)\n",
    "y=train_data['previous_year_rating']"
   ]
  },
  {
   "cell_type": "code",
   "execution_count": 37,
   "metadata": {},
   "outputs": [],
   "source": [
    "p_value=chi2(x,y)"
   ]
  },
  {
   "cell_type": "code",
   "execution_count": 38,
   "metadata": {},
   "outputs": [
    {
     "data": {
      "text/plain": [
       "array([ True,  True,  True,  True,  True,  True,  True,  True,  True,\n",
       "       False,  True,  True,  True,  True,  True, False, False, False,\n",
       "       False, False, False, False,  True,  True,  True,  True, False,\n",
       "        True,  True, False,  True,  True, False, False,  True,  True,\n",
       "       False, False,  True, False,  True,  True,  True,  True, False,\n",
       "        True, False,  True,  True,  True,  True,  True, False])"
      ]
     },
     "execution_count": 38,
     "metadata": {},
     "output_type": "execute_result"
    }
   ],
   "source": [
    "p_value[1] < 0.05"
   ]
  },
  {
   "cell_type": "code",
   "execution_count": 39,
   "metadata": {},
   "outputs": [
    {
     "name": "stdout",
     "output_type": "stream",
     "text": [
      "<class 'pandas.core.frame.DataFrame'>\n",
      "RangeIndex: 48660 entries, 0 to 48659\n",
      "Data columns (total 53 columns):\n",
      "no_of_trainings                 48660 non-null int64\n",
      "age                             48660 non-null int64\n",
      "length_of_service               48660 non-null int64\n",
      "KPIs_met >80%                   48660 non-null int64\n",
      "awards_won?                     48660 non-null int64\n",
      "avg_training_score              48660 non-null int64\n",
      "is_promoted                     48660 non-null int64\n",
      "department_Finance              48660 non-null uint8\n",
      "department_HR                   48660 non-null uint8\n",
      "department_Legal                48660 non-null uint8\n",
      "department_Operations           48660 non-null uint8\n",
      "department_Procurement          48660 non-null uint8\n",
      "department_R&D                  48660 non-null uint8\n",
      "department_Sales & Marketing    48660 non-null uint8\n",
      "department_Technology           48660 non-null uint8\n",
      "region_region_10                48660 non-null uint8\n",
      "region_region_11                48660 non-null uint8\n",
      "region_region_12                48660 non-null uint8\n",
      "region_region_13                48660 non-null uint8\n",
      "region_region_14                48660 non-null uint8\n",
      "region_region_15                48660 non-null uint8\n",
      "region_region_16                48660 non-null uint8\n",
      "region_region_17                48660 non-null uint8\n",
      "region_region_18                48660 non-null uint8\n",
      "region_region_19                48660 non-null uint8\n",
      "region_region_2                 48660 non-null uint8\n",
      "region_region_20                48660 non-null uint8\n",
      "region_region_21                48660 non-null uint8\n",
      "region_region_22                48660 non-null uint8\n",
      "region_region_23                48660 non-null uint8\n",
      "region_region_24                48660 non-null uint8\n",
      "region_region_25                48660 non-null uint8\n",
      "region_region_26                48660 non-null uint8\n",
      "region_region_27                48660 non-null uint8\n",
      "region_region_28                48660 non-null uint8\n",
      "region_region_29                48660 non-null uint8\n",
      "region_region_3                 48660 non-null uint8\n",
      "region_region_30                48660 non-null uint8\n",
      "region_region_31                48660 non-null uint8\n",
      "region_region_32                48660 non-null uint8\n",
      "region_region_33                48660 non-null uint8\n",
      "region_region_34                48660 non-null uint8\n",
      "region_region_4                 48660 non-null uint8\n",
      "region_region_5                 48660 non-null uint8\n",
      "region_region_6                 48660 non-null uint8\n",
      "region_region_7                 48660 non-null uint8\n",
      "region_region_8                 48660 non-null uint8\n",
      "region_region_9                 48660 non-null uint8\n",
      "education_Below Secondary       48660 non-null uint8\n",
      "education_Master's & above      48660 non-null uint8\n",
      "gender_m                        48660 non-null uint8\n",
      "recruitment_channel_referred    48660 non-null uint8\n",
      "recruitment_channel_sourcing    48660 non-null uint8\n",
      "dtypes: int64(7), uint8(46)\n",
      "memory usage: 4.7 MB\n"
     ]
    }
   ],
   "source": [
    "x.info()"
   ]
  },
  {
   "cell_type": "code",
   "execution_count": 40,
   "metadata": {},
   "outputs": [],
   "source": [
    "x.drop(['department_Legal','region_region_10','region_region_11','region_region_12','region_region_13','region_region_14','region_region_15','region_region_16','region_region_20','region_region_23','region_region_26','region_region_27','region_region_3','region_region_30','region_region_32','region_region_9','region_region_7','recruitment_channel_sourcing','education_Below Secondary',\"education_Master's & above\"],axis=1,inplace=True)"
   ]
  },
  {
   "cell_type": "code",
   "execution_count": 41,
   "metadata": {},
   "outputs": [
    {
     "name": "stdout",
     "output_type": "stream",
     "text": [
      "<class 'pandas.core.frame.DataFrame'>\n",
      "RangeIndex: 48660 entries, 0 to 48659\n",
      "Data columns (total 33 columns):\n",
      "no_of_trainings                 48660 non-null int64\n",
      "age                             48660 non-null int64\n",
      "length_of_service               48660 non-null int64\n",
      "KPIs_met >80%                   48660 non-null int64\n",
      "awards_won?                     48660 non-null int64\n",
      "avg_training_score              48660 non-null int64\n",
      "is_promoted                     48660 non-null int64\n",
      "department_Finance              48660 non-null uint8\n",
      "department_HR                   48660 non-null uint8\n",
      "department_Operations           48660 non-null uint8\n",
      "department_Procurement          48660 non-null uint8\n",
      "department_R&D                  48660 non-null uint8\n",
      "department_Sales & Marketing    48660 non-null uint8\n",
      "department_Technology           48660 non-null uint8\n",
      "region_region_17                48660 non-null uint8\n",
      "region_region_18                48660 non-null uint8\n",
      "region_region_19                48660 non-null uint8\n",
      "region_region_2                 48660 non-null uint8\n",
      "region_region_21                48660 non-null uint8\n",
      "region_region_22                48660 non-null uint8\n",
      "region_region_24                48660 non-null uint8\n",
      "region_region_25                48660 non-null uint8\n",
      "region_region_28                48660 non-null uint8\n",
      "region_region_29                48660 non-null uint8\n",
      "region_region_31                48660 non-null uint8\n",
      "region_region_33                48660 non-null uint8\n",
      "region_region_34                48660 non-null uint8\n",
      "region_region_4                 48660 non-null uint8\n",
      "region_region_5                 48660 non-null uint8\n",
      "region_region_6                 48660 non-null uint8\n",
      "region_region_8                 48660 non-null uint8\n",
      "gender_m                        48660 non-null uint8\n",
      "recruitment_channel_referred    48660 non-null uint8\n",
      "dtypes: int64(7), uint8(26)\n",
      "memory usage: 3.8 MB\n"
     ]
    }
   ],
   "source": [
    "x.info()"
   ]
  },
  {
   "cell_type": "code",
   "execution_count": null,
   "metadata": {},
   "outputs": [],
   "source": []
  },
  {
   "cell_type": "markdown",
   "metadata": {},
   "source": [
    "Assigning Input and output variables"
   ]
  },
  {
   "cell_type": "code",
   "execution_count": 42,
   "metadata": {},
   "outputs": [],
   "source": [
    "from sklearn.model_selection import train_test_split\n",
    "x_train, x_test, y_train, y_test = train_test_split(x, y, test_size=0.2, random_state=101)"
   ]
  },
  {
   "cell_type": "code",
   "execution_count": 43,
   "metadata": {},
   "outputs": [],
   "source": [
    "from sklearn.ensemble import RandomForestClassifier"
   ]
  },
  {
   "cell_type": "code",
   "execution_count": 44,
   "metadata": {},
   "outputs": [],
   "source": [
    "rfc=RandomForestClassifier(100)"
   ]
  },
  {
   "cell_type": "code",
   "execution_count": 45,
   "metadata": {},
   "outputs": [
    {
     "data": {
      "text/plain": [
       "RandomForestClassifier(bootstrap=True, class_weight=None, criterion='gini',\n",
       "            max_depth=None, max_features='auto', max_leaf_nodes=None,\n",
       "            min_impurity_decrease=0.0, min_impurity_split=None,\n",
       "            min_samples_leaf=1, min_samples_split=2,\n",
       "            min_weight_fraction_leaf=0.0, n_estimators=100, n_jobs=None,\n",
       "            oob_score=False, random_state=None, verbose=0,\n",
       "            warm_start=False)"
      ]
     },
     "execution_count": 45,
     "metadata": {},
     "output_type": "execute_result"
    }
   ],
   "source": [
    "rfc.fit(x_train,y_train)"
   ]
  },
  {
   "cell_type": "code",
   "execution_count": 46,
   "metadata": {},
   "outputs": [],
   "source": [
    "predictions=rfc.predict(x_test)"
   ]
  },
  {
   "cell_type": "code",
   "execution_count": 47,
   "metadata": {},
   "outputs": [],
   "source": [
    "from sklearn.metrics import classification_report,confusion_matrix,accuracy_score"
   ]
  },
  {
   "cell_type": "code",
   "execution_count": 48,
   "metadata": {},
   "outputs": [
    {
     "name": "stdout",
     "output_type": "stream",
     "text": [
      "              precision    recall  f1-score   support\n",
      "\n",
      "         1.0       0.19      0.14      0.16      1147\n",
      "         2.0       0.10      0.05      0.07       798\n",
      "         3.0       0.40      0.48      0.44      3573\n",
      "         4.0       0.21      0.16      0.18      1910\n",
      "         5.0       0.38      0.43      0.41      2304\n",
      "\n",
      "   micro avg       0.33      0.33      0.33      9732\n",
      "   macro avg       0.25      0.26      0.25      9732\n",
      "weighted avg       0.31      0.33      0.32      9732\n",
      "\n",
      "[[ 166   71  569  173  168]\n",
      " [ 101   42  405  114  136]\n",
      " [ 341  201 1726  534  771]\n",
      " [ 152   72  838  308  540]\n",
      " [ 116   52  774  362 1000]]\n",
      "0.333127825729552\n"
     ]
    }
   ],
   "source": [
    "print(classification_report(y_test,predictions))\n",
    "print(confusion_matrix(y_test,predictions))\n",
    "print(accuracy_score(y_test,predictions))"
   ]
  },
  {
   "cell_type": "markdown",
   "metadata": {},
   "source": [
    "Now lets predict the previous_year_raing missing columns"
   ]
  },
  {
   "cell_type": "code",
   "execution_count": null,
   "metadata": {},
   "outputs": [],
   "source": []
  },
  {
   "cell_type": "code",
   "execution_count": null,
   "metadata": {},
   "outputs": [],
   "source": []
  },
  {
   "cell_type": "code",
   "execution_count": 49,
   "metadata": {},
   "outputs": [],
   "source": [
    "test_pyr=missing_values_pyr.drop(['employee_id','education','previous_year_rating'],axis=1)\n",
    "test_pyr=pd.get_dummies(test_pyr,drop_first=True)"
   ]
  },
  {
   "cell_type": "code",
   "execution_count": 50,
   "metadata": {},
   "outputs": [
    {
     "name": "stdout",
     "output_type": "stream",
     "text": [
      "<class 'pandas.core.frame.DataFrame'>\n",
      "Int64Index: 4124 entries, 10 to 54801\n",
      "Data columns (total 51 columns):\n",
      "no_of_trainings                 4124 non-null int64\n",
      "age                             4124 non-null int64\n",
      "length_of_service               4124 non-null int64\n",
      "KPIs_met >80%                   4124 non-null int64\n",
      "awards_won?                     4124 non-null int64\n",
      "avg_training_score              4124 non-null int64\n",
      "is_promoted                     4124 non-null int64\n",
      "department_Finance              4124 non-null uint8\n",
      "department_HR                   4124 non-null uint8\n",
      "department_Legal                4124 non-null uint8\n",
      "department_Operations           4124 non-null uint8\n",
      "department_Procurement          4124 non-null uint8\n",
      "department_R&D                  4124 non-null uint8\n",
      "department_Sales & Marketing    4124 non-null uint8\n",
      "department_Technology           4124 non-null uint8\n",
      "region_region_10                4124 non-null uint8\n",
      "region_region_11                4124 non-null uint8\n",
      "region_region_12                4124 non-null uint8\n",
      "region_region_13                4124 non-null uint8\n",
      "region_region_14                4124 non-null uint8\n",
      "region_region_15                4124 non-null uint8\n",
      "region_region_16                4124 non-null uint8\n",
      "region_region_17                4124 non-null uint8\n",
      "region_region_18                4124 non-null uint8\n",
      "region_region_19                4124 non-null uint8\n",
      "region_region_2                 4124 non-null uint8\n",
      "region_region_20                4124 non-null uint8\n",
      "region_region_21                4124 non-null uint8\n",
      "region_region_22                4124 non-null uint8\n",
      "region_region_23                4124 non-null uint8\n",
      "region_region_24                4124 non-null uint8\n",
      "region_region_25                4124 non-null uint8\n",
      "region_region_26                4124 non-null uint8\n",
      "region_region_27                4124 non-null uint8\n",
      "region_region_28                4124 non-null uint8\n",
      "region_region_29                4124 non-null uint8\n",
      "region_region_3                 4124 non-null uint8\n",
      "region_region_30                4124 non-null uint8\n",
      "region_region_31                4124 non-null uint8\n",
      "region_region_32                4124 non-null uint8\n",
      "region_region_33                4124 non-null uint8\n",
      "region_region_34                4124 non-null uint8\n",
      "region_region_4                 4124 non-null uint8\n",
      "region_region_5                 4124 non-null uint8\n",
      "region_region_6                 4124 non-null uint8\n",
      "region_region_7                 4124 non-null uint8\n",
      "region_region_8                 4124 non-null uint8\n",
      "region_region_9                 4124 non-null uint8\n",
      "gender_m                        4124 non-null uint8\n",
      "recruitment_channel_referred    4124 non-null uint8\n",
      "recruitment_channel_sourcing    4124 non-null uint8\n",
      "dtypes: int64(7), uint8(44)\n",
      "memory usage: 435.0 KB\n"
     ]
    }
   ],
   "source": [
    "test_pyr.info()"
   ]
  },
  {
   "cell_type": "code",
   "execution_count": 51,
   "metadata": {},
   "outputs": [],
   "source": [
    "test_pyr.drop(['department_Legal','region_region_10','region_region_11','region_region_12','region_region_13','region_region_14','region_region_15','region_region_16','region_region_20','region_region_23','region_region_26','region_region_27','region_region_3','region_region_30','region_region_32','region_region_9','region_region_7','recruitment_channel_sourcing'],axis=1,inplace=True)"
   ]
  },
  {
   "cell_type": "code",
   "execution_count": 52,
   "metadata": {},
   "outputs": [],
   "source": [
    "test_pyr['previous_year_rating']=rfc.predict(test_pyr)"
   ]
  },
  {
   "cell_type": "code",
   "execution_count": 53,
   "metadata": {},
   "outputs": [
    {
     "name": "stdout",
     "output_type": "stream",
     "text": [
      "<class 'pandas.core.frame.DataFrame'>\n",
      "Int64Index: 4124 entries, 10 to 54801\n",
      "Data columns (total 34 columns):\n",
      "no_of_trainings                 4124 non-null int64\n",
      "age                             4124 non-null int64\n",
      "length_of_service               4124 non-null int64\n",
      "KPIs_met >80%                   4124 non-null int64\n",
      "awards_won?                     4124 non-null int64\n",
      "avg_training_score              4124 non-null int64\n",
      "is_promoted                     4124 non-null int64\n",
      "department_Finance              4124 non-null uint8\n",
      "department_HR                   4124 non-null uint8\n",
      "department_Operations           4124 non-null uint8\n",
      "department_Procurement          4124 non-null uint8\n",
      "department_R&D                  4124 non-null uint8\n",
      "department_Sales & Marketing    4124 non-null uint8\n",
      "department_Technology           4124 non-null uint8\n",
      "region_region_17                4124 non-null uint8\n",
      "region_region_18                4124 non-null uint8\n",
      "region_region_19                4124 non-null uint8\n",
      "region_region_2                 4124 non-null uint8\n",
      "region_region_21                4124 non-null uint8\n",
      "region_region_22                4124 non-null uint8\n",
      "region_region_24                4124 non-null uint8\n",
      "region_region_25                4124 non-null uint8\n",
      "region_region_28                4124 non-null uint8\n",
      "region_region_29                4124 non-null uint8\n",
      "region_region_31                4124 non-null uint8\n",
      "region_region_33                4124 non-null uint8\n",
      "region_region_34                4124 non-null uint8\n",
      "region_region_4                 4124 non-null uint8\n",
      "region_region_5                 4124 non-null uint8\n",
      "region_region_6                 4124 non-null uint8\n",
      "region_region_8                 4124 non-null uint8\n",
      "gender_m                        4124 non-null uint8\n",
      "recruitment_channel_referred    4124 non-null uint8\n",
      "previous_year_rating            4124 non-null float64\n",
      "dtypes: float64(1), int64(7), uint8(26)\n",
      "memory usage: 394.7 KB\n"
     ]
    }
   ],
   "source": [
    "test_pyr.info()"
   ]
  },
  {
   "cell_type": "markdown",
   "metadata": {},
   "source": [
    "now lets store the two missing value columns with the predicted data"
   ]
  },
  {
   "cell_type": "code",
   "execution_count": 54,
   "metadata": {},
   "outputs": [
    {
     "name": "stderr",
     "output_type": "stream",
     "text": [
      "C:\\ProgramData\\Anaconda3\\lib\\site-packages\\pandas\\core\\generic.py:6130: SettingWithCopyWarning: \n",
      "A value is trying to be set on a copy of a slice from a DataFrame\n",
      "\n",
      "See the caveats in the documentation: http://pandas.pydata.org/pandas-docs/stable/indexing.html#indexing-view-versus-copy\n",
      "  self._update_inplace(new_data)\n"
     ]
    }
   ],
   "source": [
    "missing_values_dataset['education'].fillna(test_edu['education'],inplace=True)"
   ]
  },
  {
   "cell_type": "code",
   "execution_count": 55,
   "metadata": {},
   "outputs": [
    {
     "name": "stdout",
     "output_type": "stream",
     "text": [
      "<class 'pandas.core.frame.DataFrame'>\n",
      "Int64Index: 6148 entries, 10 to 54806\n",
      "Data columns (total 14 columns):\n",
      "employee_id             6148 non-null int64\n",
      "department              6148 non-null object\n",
      "region                  6148 non-null object\n",
      "education               6148 non-null object\n",
      "gender                  6148 non-null object\n",
      "recruitment_channel     6148 non-null object\n",
      "no_of_trainings         6148 non-null int64\n",
      "age                     6148 non-null int64\n",
      "previous_year_rating    2024 non-null float64\n",
      "length_of_service       6148 non-null int64\n",
      "KPIs_met >80%           6148 non-null int64\n",
      "awards_won?             6148 non-null int64\n",
      "avg_training_score      6148 non-null int64\n",
      "is_promoted             6148 non-null int64\n",
      "dtypes: float64(1), int64(8), object(5)\n",
      "memory usage: 720.5+ KB\n"
     ]
    }
   ],
   "source": [
    "missing_values_dataset.info()"
   ]
  },
  {
   "cell_type": "code",
   "execution_count": 56,
   "metadata": {},
   "outputs": [],
   "source": [
    "missing_values_dataset['previous_year_rating'].fillna(test_pyr['previous_year_rating'],inplace=True)"
   ]
  },
  {
   "cell_type": "code",
   "execution_count": 57,
   "metadata": {},
   "outputs": [],
   "source": [
    "Employee_dataset['previous_year_rating'].fillna(test_pyr['previous_year_rating'],inplace=True)"
   ]
  },
  {
   "cell_type": "code",
   "execution_count": 58,
   "metadata": {},
   "outputs": [],
   "source": [
    "Employee_dataset['education'].fillna(test_edu['education'],inplace=True)"
   ]
  },
  {
   "cell_type": "code",
   "execution_count": 59,
   "metadata": {},
   "outputs": [
    {
     "name": "stdout",
     "output_type": "stream",
     "text": [
      "<class 'pandas.core.frame.DataFrame'>\n",
      "RangeIndex: 54808 entries, 0 to 54807\n",
      "Data columns (total 14 columns):\n",
      "employee_id             54808 non-null int64\n",
      "department              54808 non-null object\n",
      "region                  54808 non-null object\n",
      "education               54808 non-null object\n",
      "gender                  54808 non-null object\n",
      "recruitment_channel     54808 non-null object\n",
      "no_of_trainings         54808 non-null int64\n",
      "age                     54808 non-null int64\n",
      "previous_year_rating    54808 non-null float64\n",
      "length_of_service       54808 non-null int64\n",
      "KPIs_met >80%           54808 non-null int64\n",
      "awards_won?             54808 non-null int64\n",
      "avg_training_score      54808 non-null int64\n",
      "is_promoted             54808 non-null int64\n",
      "dtypes: float64(1), int64(8), object(5)\n",
      "memory usage: 5.9+ MB\n"
     ]
    }
   ],
   "source": [
    "Employee_dataset.info()"
   ]
  },
  {
   "cell_type": "markdown",
   "metadata": {},
   "source": [
    "Now lets take this missing value dataset as test data and the regular one as train data and build the model for our main objective."
   ]
  },
  {
   "cell_type": "code",
   "execution_count": null,
   "metadata": {},
   "outputs": [],
   "source": [
    "train_data.corr()"
   ]
  },
  {
   "cell_type": "markdown",
   "metadata": {},
   "source": [
    "In the numerical columns the output is mostly dependent on the 'previous_year_rating','KPIs_met >80%','awards_won?' and 'avg_training_score' columns."
   ]
  },
  {
   "cell_type": "code",
   "execution_count": null,
   "metadata": {},
   "outputs": [],
   "source": [
    "#sns.countplot('department',hue='is_promoted',data=train_data)\n",
    "#plt.xticks(rotation=45)"
   ]
  },
  {
   "cell_type": "code",
   "execution_count": null,
   "metadata": {},
   "outputs": [],
   "source": [
    "#sns.countplot('region',hue='is_promoted',data=train_data)\n",
    "#plt.xticks(rotation=45)"
   ]
  },
  {
   "cell_type": "code",
   "execution_count": null,
   "metadata": {},
   "outputs": [],
   "source": [
    "#sns.countplot('gender',hue='is_promoted',data=train_data)\n",
    "#plt.xticks(rotation=45)"
   ]
  },
  {
   "cell_type": "code",
   "execution_count": null,
   "metadata": {},
   "outputs": [],
   "source": [
    "#sns.countplot('no_of_trainings',hue='is_promoted',data=train_data)\n",
    "#plt.xticks(rotation=45)"
   ]
  },
  {
   "cell_type": "code",
   "execution_count": null,
   "metadata": {},
   "outputs": [],
   "source": [
    "#sns.countplot('recruitment_channel',hue='is_promoted',data=train_data)\n",
    "#plt.xticks(rotation=45)"
   ]
  },
  {
   "cell_type": "code",
   "execution_count": null,
   "metadata": {},
   "outputs": [],
   "source": [
    "#sns.barplot('is_promoted','age',data=train_data)\n",
    "#plt.xticks(rotation=45)"
   ]
  },
  {
   "cell_type": "code",
   "execution_count": null,
   "metadata": {},
   "outputs": [],
   "source": [
    "missing_values_dataset.info()"
   ]
  },
  {
   "cell_type": "markdown",
   "metadata": {},
   "source": [
    "In the categorical columns most variations can be seen in 'recruitment_channel','no_of_trainings','gender','department' columns.\n",
    "so we are going to use these as inputs in the categorical columns."
   ]
  },
  {
   "cell_type": "markdown",
   "metadata": {},
   "source": [
    "# Assigning training data"
   ]
  },
  {
   "cell_type": "code",
   "execution_count": null,
   "metadata": {},
   "outputs": [],
   "source": []
  },
  {
   "cell_type": "code",
   "execution_count": 60,
   "metadata": {},
   "outputs": [],
   "source": [
    "x_train=train_data.drop(['employee_id','is_promoted'],axis=1)\n",
    "y_train=train_data['is_promoted']"
   ]
  },
  {
   "cell_type": "code",
   "execution_count": 61,
   "metadata": {},
   "outputs": [],
   "source": [
    "x_train=pd.get_dummies(x_train,drop_first=True)"
   ]
  },
  {
   "cell_type": "code",
   "execution_count": 63,
   "metadata": {},
   "outputs": [],
   "source": [
    "p_value=chi2(x_train,y_train)"
   ]
  },
  {
   "cell_type": "code",
   "execution_count": 64,
   "metadata": {},
   "outputs": [
    {
     "data": {
      "text/plain": [
       "array([ True,  True,  True,  True,  True,  True,  True, False,  True,\n",
       "        True,  True,  True,  True,  True,  True, False,  True, False,\n",
       "       False, False, False,  True,  True, False,  True, False,  True,\n",
       "        True,  True,  True,  True,  True,  True, False,  True,  True,\n",
       "       False, False,  True,  True,  True,  True,  True,  True,  True,\n",
       "        True, False,  True, False,  True, False,  True, False])"
      ]
     },
     "execution_count": 64,
     "metadata": {},
     "output_type": "execute_result"
    }
   ],
   "source": [
    "p_value[1] < 0.05"
   ]
  },
  {
   "cell_type": "code",
   "execution_count": 66,
   "metadata": {},
   "outputs": [],
   "source": [
    "x_train.drop(['department_Finance','region_region_10','region_region_12','region_region_13','region_region_14','region_region_15','region_region_18','region_region_20','region_region_21','region_region_8','education_Below Secondary','gender_m','recruitment_channel_sourcing'],axis=1,inplace=True)"
   ]
  },
  {
   "cell_type": "code",
   "execution_count": 67,
   "metadata": {},
   "outputs": [
    {
     "name": "stdout",
     "output_type": "stream",
     "text": [
      "<class 'pandas.core.frame.DataFrame'>\n",
      "RangeIndex: 48660 entries, 0 to 48659\n",
      "Data columns (total 40 columns):\n",
      "no_of_trainings                 48660 non-null int64\n",
      "age                             48660 non-null int64\n",
      "previous_year_rating            48660 non-null float64\n",
      "length_of_service               48660 non-null int64\n",
      "KPIs_met >80%                   48660 non-null int64\n",
      "awards_won?                     48660 non-null int64\n",
      "avg_training_score              48660 non-null int64\n",
      "department_HR                   48660 non-null uint8\n",
      "department_Legal                48660 non-null uint8\n",
      "department_Operations           48660 non-null uint8\n",
      "department_Procurement          48660 non-null uint8\n",
      "department_R&D                  48660 non-null uint8\n",
      "department_Sales & Marketing    48660 non-null uint8\n",
      "department_Technology           48660 non-null uint8\n",
      "region_region_11                48660 non-null uint8\n",
      "region_region_16                48660 non-null uint8\n",
      "region_region_17                48660 non-null uint8\n",
      "region_region_19                48660 non-null uint8\n",
      "region_region_2                 48660 non-null uint8\n",
      "region_region_22                48660 non-null uint8\n",
      "region_region_23                48660 non-null uint8\n",
      "region_region_24                48660 non-null uint8\n",
      "region_region_25                48660 non-null uint8\n",
      "region_region_26                48660 non-null uint8\n",
      "region_region_27                48660 non-null uint8\n",
      "region_region_28                48660 non-null uint8\n",
      "region_region_29                48660 non-null uint8\n",
      "region_region_3                 48660 non-null uint8\n",
      "region_region_30                48660 non-null uint8\n",
      "region_region_31                48660 non-null uint8\n",
      "region_region_32                48660 non-null uint8\n",
      "region_region_33                48660 non-null uint8\n",
      "region_region_34                48660 non-null uint8\n",
      "region_region_4                 48660 non-null uint8\n",
      "region_region_5                 48660 non-null uint8\n",
      "region_region_6                 48660 non-null uint8\n",
      "region_region_7                 48660 non-null uint8\n",
      "region_region_9                 48660 non-null uint8\n",
      "education_Master's & above      48660 non-null uint8\n",
      "recruitment_channel_referred    48660 non-null uint8\n",
      "dtypes: float64(1), int64(6), uint8(33)\n",
      "memory usage: 4.1 MB\n"
     ]
    }
   ],
   "source": [
    "x_train.info()"
   ]
  },
  {
   "cell_type": "code",
   "execution_count": null,
   "metadata": {},
   "outputs": [],
   "source": []
  },
  {
   "cell_type": "code",
   "execution_count": null,
   "metadata": {},
   "outputs": [],
   "source": [
    "x_train.head()"
   ]
  },
  {
   "cell_type": "markdown",
   "metadata": {},
   "source": [
    "# Training the model"
   ]
  },
  {
   "cell_type": "code",
   "execution_count": 68,
   "metadata": {},
   "outputs": [
    {
     "data": {
      "text/plain": [
       "RandomForestClassifier(bootstrap=True, class_weight=None, criterion='gini',\n",
       "            max_depth=None, max_features='auto', max_leaf_nodes=None,\n",
       "            min_impurity_decrease=0.0, min_impurity_split=None,\n",
       "            min_samples_leaf=1, min_samples_split=2,\n",
       "            min_weight_fraction_leaf=0.0, n_estimators=100, n_jobs=None,\n",
       "            oob_score=False, random_state=None, verbose=0,\n",
       "            warm_start=False)"
      ]
     },
     "execution_count": 68,
     "metadata": {},
     "output_type": "execute_result"
    }
   ],
   "source": [
    "rfc.fit(x_train,y_train)"
   ]
  },
  {
   "cell_type": "markdown",
   "metadata": {},
   "source": [
    "# Feature Importances"
   ]
  },
  {
   "cell_type": "code",
   "execution_count": 70,
   "metadata": {},
   "outputs": [
    {
     "data": {
      "text/plain": [
       "Text(0.5, 0, 'Relative Importance')"
      ]
     },
     "execution_count": 70,
     "metadata": {},
     "output_type": "execute_result"
    },
    {
     "data": {
      "image/png": "[encoded data removed]",
      "text/plain": [
       "<Figure size 720x1440 with 1 Axes>"
      ]
     },
     "metadata": {
      "needs_background": "light"
     },
     "output_type": "display_data"
    }
   ],
   "source": [
    "features=x_train.columns\n",
    "importances = rfc.feature_importances_\n",
    "indices = np.argsort(importances)\n",
    "plt.figure(figsize=(10,20))\n",
    "plt.title('Feature Importances')\n",
    "plt.barh(range(len(indices)), importances[indices], color='b', align='center')\n",
    "plt.yticks(range(len(indices)), features[indices])\n",
    "plt.xlabel('Relative Importance')"
   ]
  },
  {
   "cell_type": "markdown",
   "metadata": {},
   "source": [
    "# Assigning test data"
   ]
  },
  {
   "cell_type": "code",
   "execution_count": 71,
   "metadata": {},
   "outputs": [],
   "source": [
    "x_test=missing_values_dataset.drop(['employee_id','is_promoted'],axis=1)\n",
    "y_test=missing_values_dataset['is_promoted']"
   ]
  },
  {
   "cell_type": "code",
   "execution_count": 72,
   "metadata": {},
   "outputs": [],
   "source": [
    "x_test=pd.get_dummies(x_test,drop_first=True)"
   ]
  },
  {
   "cell_type": "code",
   "execution_count": 73,
   "metadata": {},
   "outputs": [
    {
     "name": "stdout",
     "output_type": "stream",
     "text": [
      "<class 'pandas.core.frame.DataFrame'>\n",
      "Int64Index: 6148 entries, 10 to 54806\n",
      "Data columns (total 53 columns):\n",
      "no_of_trainings                 6148 non-null int64\n",
      "age                             6148 non-null int64\n",
      "previous_year_rating            6148 non-null float64\n",
      "length_of_service               6148 non-null int64\n",
      "KPIs_met >80%                   6148 non-null int64\n",
      "awards_won?                     6148 non-null int64\n",
      "avg_training_score              6148 non-null int64\n",
      "department_Finance              6148 non-null uint8\n",
      "department_HR                   6148 non-null uint8\n",
      "department_Legal                6148 non-null uint8\n",
      "department_Operations           6148 non-null uint8\n",
      "department_Procurement          6148 non-null uint8\n",
      "department_R&D                  6148 non-null uint8\n",
      "department_Sales & Marketing    6148 non-null uint8\n",
      "department_Technology           6148 non-null uint8\n",
      "region_region_10                6148 non-null uint8\n",
      "region_region_11                6148 non-null uint8\n",
      "region_region_12                6148 non-null uint8\n",
      "region_region_13                6148 non-null uint8\n",
      "region_region_14                6148 non-null uint8\n",
      "region_region_15                6148 non-null uint8\n",
      "region_region_16                6148 non-null uint8\n",
      "region_region_17                6148 non-null uint8\n",
      "region_region_18                6148 non-null uint8\n",
      "region_region_19                6148 non-null uint8\n",
      "region_region_2                 6148 non-null uint8\n",
      "region_region_20                6148 non-null uint8\n",
      "region_region_21                6148 non-null uint8\n",
      "region_region_22                6148 non-null uint8\n",
      "region_region_23                6148 non-null uint8\n",
      "region_region_24                6148 non-null uint8\n",
      "region_region_25                6148 non-null uint8\n",
      "region_region_26                6148 non-null uint8\n",
      "region_region_27                6148 non-null uint8\n",
      "region_region_28                6148 non-null uint8\n",
      "region_region_29                6148 non-null uint8\n",
      "region_region_3                 6148 non-null uint8\n",
      "region_region_30                6148 non-null uint8\n",
      "region_region_31                6148 non-null uint8\n",
      "region_region_32                6148 non-null uint8\n",
      "region_region_33                6148 non-null uint8\n",
      "region_region_34                6148 non-null uint8\n",
      "region_region_4                 6148 non-null uint8\n",
      "region_region_5                 6148 non-null uint8\n",
      "region_region_6                 6148 non-null uint8\n",
      "region_region_7                 6148 non-null uint8\n",
      "region_region_8                 6148 non-null uint8\n",
      "region_region_9                 6148 non-null uint8\n",
      "education_Below Secondary       6148 non-null uint8\n",
      "education_Master's & above      6148 non-null uint8\n",
      "gender_m                        6148 non-null uint8\n",
      "recruitment_channel_referred    6148 non-null uint8\n",
      "recruitment_channel_sourcing    6148 non-null uint8\n",
      "dtypes: float64(1), int64(6), uint8(46)\n",
      "memory usage: 660.4 KB\n"
     ]
    }
   ],
   "source": [
    "x_test.info()"
   ]
  },
  {
   "cell_type": "code",
   "execution_count": 75,
   "metadata": {},
   "outputs": [],
   "source": [
    "x_test.drop(['department_Finance','region_region_10','region_region_12','region_region_13','region_region_14','region_region_15','region_region_18','region_region_20','region_region_21','region_region_8','education_Below Secondary','gender_m','recruitment_channel_sourcing'],axis=1,inplace=True)"
   ]
  },
  {
   "cell_type": "markdown",
   "metadata": {},
   "source": [
    "# Model Evaluation by prediction"
   ]
  },
  {
   "cell_type": "code",
   "execution_count": 76,
   "metadata": {},
   "outputs": [],
   "source": [
    "predictions=rfc.predict(x_test)"
   ]
  },
  {
   "cell_type": "code",
   "execution_count": 77,
   "metadata": {},
   "outputs": [
    {
     "name": "stdout",
     "output_type": "stream",
     "text": [
      "              precision    recall  f1-score   support\n",
      "\n",
      "           0       0.95      0.99      0.97      5712\n",
      "           1       0.71      0.35      0.47       436\n",
      "\n",
      "   micro avg       0.94      0.94      0.94      6148\n",
      "   macro avg       0.83      0.67      0.72      6148\n",
      "weighted avg       0.93      0.94      0.93      6148\n",
      "\n",
      "[[5650   62]\n",
      " [ 284  152]]\n",
      "0.9437215354586858\n"
     ]
    }
   ],
   "source": [
    "print(classification_report(y_test,predictions))\n",
    "print(confusion_matrix(y_test,predictions))\n",
    "print(accuracy_score(y_test,predictions))"
   ]
  },
  {
   "cell_type": "markdown",
   "metadata": {},
   "source": [
    "# Checking if this works on multiple classifiers"
   ]
  },
  {
   "cell_type": "code",
   "execution_count": 78,
   "metadata": {},
   "outputs": [],
   "source": [
    "from sklearn.neighbors import KNeighborsClassifier\n",
    "from sklearn.svm import SVC\n",
    "from sklearn.tree import DecisionTreeClassifier\n",
    "from sklearn.linear_model import LogisticRegression\n",
    "from sklearn.ensemble import RandomForestClassifier,ExtraTreesClassifier,AdaBoostClassifier,GradientBoostingClassifier\n",
    "from sklearn.naive_bayes import MultinomialNB\n",
    "from sklearn.model_selection import cross_val_score"
   ]
  },
  {
   "cell_type": "code",
   "execution_count": 79,
   "metadata": {},
   "outputs": [],
   "source": [
    "clfs=[RandomForestClassifier(),ExtraTreesClassifier(),AdaBoostClassifier(),GradientBoostingClassifier(),MultinomialNB(),LogisticRegression(),SVC(),KNeighborsClassifier(),DecisionTreeClassifier(),GradientBoostingClassifier()]"
   ]
  },
  {
   "cell_type": "code",
   "execution_count": 80,
   "metadata": {},
   "outputs": [
    {
     "name": "stderr",
     "output_type": "stream",
     "text": [
      "[Parallel(n_jobs=-1)]: Using backend LokyBackend with 4 concurrent workers.\n",
      "[Parallel(n_jobs=-1)]: Done   8 out of   8 | elapsed:   13.9s finished\n",
      "[Parallel(n_jobs=-1)]: Using backend LokyBackend with 4 concurrent workers.\n",
      "[Parallel(n_jobs=-1)]: Done   8 out of   8 | elapsed:    3.9s finished\n",
      "[Parallel(n_jobs=-1)]: Using backend LokyBackend with 4 concurrent workers.\n",
      "[Parallel(n_jobs=-1)]: Done   8 out of   8 | elapsed:    7.0s finished\n",
      "[Parallel(n_jobs=-1)]: Using backend LokyBackend with 4 concurrent workers.\n",
      "[Parallel(n_jobs=-1)]: Done   8 out of   8 | elapsed:  2.5min finished\n",
      "[Parallel(n_jobs=-1)]: Using backend LokyBackend with 4 concurrent workers.\n",
      "[Parallel(n_jobs=-1)]: Done   8 out of   8 | elapsed:    0.4s finished\n",
      "[Parallel(n_jobs=-1)]: Using backend LokyBackend with 4 concurrent workers.\n",
      "[Parallel(n_jobs=-1)]: Done   8 out of   8 | elapsed:   13.0s finished\n",
      "[Parallel(n_jobs=-1)]: Using backend LokyBackend with 4 concurrent workers.\n",
      "[Parallel(n_jobs=-1)]: Done   8 out of   8 | elapsed: 562.7min finished\n",
      "[Parallel(n_jobs=-1)]: Using backend LokyBackend with 4 concurrent workers.\n",
      "[Parallel(n_jobs=-1)]: Done   8 out of   8 | elapsed:    5.4s finished\n",
      "[Parallel(n_jobs=-1)]: Using backend LokyBackend with 4 concurrent workers.\n",
      "[Parallel(n_jobs=-1)]: Done   8 out of   8 | elapsed:    1.6s finished\n",
      "[Parallel(n_jobs=-1)]: Using backend LokyBackend with 4 concurrent workers.\n",
      "[Parallel(n_jobs=-1)]: Done   8 out of   8 | elapsed:  2.4min finished\n"
     ]
    }
   ],
   "source": [
    "means=[]\n",
    "for i in clfs:\n",
    "    cvs=cross_val_score(i,x,y,scoring='accuracy',cv=8,verbose=1,n_jobs=-1)\n",
    "    means.append(cvs.mean())"
   ]
  },
  {
   "cell_type": "code",
   "execution_count": 81,
   "metadata": {},
   "outputs": [
    {
     "name": "stdout",
     "output_type": "stream",
     "text": [
      "RandomForestClassifier : 32.04484586899453\n",
      "ExtraTreesClassifier : 31.146783489421892\n",
      "AdaBoostClassifier : 41.31322543179509\n",
      "GradientBoostingClassifier : 42.62642539279247\n",
      "MultinomialNB : 39.75545129567616\n",
      "LogisticRegression : 42.10440697021573\n",
      "SVC : 41.89885881200382\n",
      "KNeighborsClassifier : 30.583658810563886\n",
      "DecisionTreeClassifier : 28.75870214218599\n",
      "GradientBoostingClassifier : 42.62847996215473\n"
     ]
    }
   ],
   "source": [
    "for i in range(10):\n",
    "    print(clfs[i].__class__.__name__ , ':' ,means[i]*100)"
   ]
  },
  {
   "cell_type": "code",
   "execution_count": null,
   "metadata": {},
   "outputs": [],
   "source": []
  },
  {
   "cell_type": "code",
   "execution_count": null,
   "metadata": {},
   "outputs": [],
   "source": []
  },
  {
   "cell_type": "code",
   "execution_count": null,
   "metadata": {},
   "outputs": [],
   "source": []
  },
  {
   "cell_type": "markdown",
   "metadata": {},
   "source": [
    "# Conclusion\n",
    "From all the analysis we have done up to this point shows that the predicted data has a accuracy of 94% and also the average f1_score is around 95%. This model can be considered as a good model with a good precision of the data."
   ]
  }
 ],
 "metadata": {
  "kernelspec": {
   "display_name": "Python 3",
   "language": "python",
   "name": "python3"
  },
  "language_info": {
   "codemirror_mode": {
    "name": "ipython",
    "version": 3
   },
   "file_extension": ".py",
   "mimetype": "text/x-python",
   "name": "python",
   "nbconvert_exporter": "python",
   "pygments_lexer": "ipython3",
   "version": "3.7.3"
  }
 },
 "nbformat": 4,
 "nbformat_minor": 2
}
